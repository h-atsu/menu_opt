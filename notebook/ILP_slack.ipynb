{
 "cells": [
  {
   "cell_type": "code",
   "execution_count": 1,
   "id": "319e55db",
   "metadata": {},
   "outputs": [],
   "source": [
    "import pandas as pd"
   ]
  },
  {
   "cell_type": "code",
   "execution_count": 2,
   "id": "c9ab59c1",
   "metadata": {},
   "outputs": [],
   "source": [
    "df = pd.read_csv('../data/kansita.csv')"
   ]
  },
  {
   "cell_type": "code",
   "execution_count": 3,
   "id": "26677a59",
   "metadata": {},
   "outputs": [
    {
     "data": {
      "text/plain": [
       "33"
      ]
     },
     "execution_count": 3,
     "metadata": {},
     "output_type": "execute_result"
    }
   ],
   "source": [
    "len(df)"
   ]
  },
  {
   "cell_type": "code",
   "execution_count": 4,
   "id": "dd3f39bf",
   "metadata": {},
   "outputs": [
    {
     "data": {
      "text/html": [
       "<div>\n",
       "<style scoped>\n",
       "    .dataframe tbody tr th:only-of-type {\n",
       "        vertical-align: middle;\n",
       "    }\n",
       "\n",
       "    .dataframe tbody tr th {\n",
       "        vertical-align: top;\n",
       "    }\n",
       "\n",
       "    .dataframe thead th {\n",
       "        text-align: right;\n",
       "    }\n",
       "</style>\n",
       "<table border=\"1\" class=\"dataframe\">\n",
       "  <thead>\n",
       "    <tr style=\"text-align: right;\">\n",
       "      <th></th>\n",
       "      <th>name</th>\n",
       "      <th>price</th>\n",
       "      <th>energy</th>\n",
       "      <th>protein</th>\n",
       "      <th>fat</th>\n",
       "      <th>carbohydrates</th>\n",
       "      <th>salt</th>\n",
       "      <th>calcium</th>\n",
       "      <th>vegetable</th>\n",
       "      <th>img_url</th>\n",
       "    </tr>\n",
       "  </thead>\n",
       "  <tbody>\n",
       "    <tr>\n",
       "      <th>0</th>\n",
       "      <td>ローストンカツおろしソース</td>\n",
       "      <td>308.0</td>\n",
       "      <td>413.0</td>\n",
       "      <td>15.6</td>\n",
       "      <td>26.0</td>\n",
       "      <td>27.0</td>\n",
       "      <td>2.4</td>\n",
       "      <td>29.0</td>\n",
       "      <td>49.0</td>\n",
       "      <td>https://west2-univ.jp/menu_img/png_sp/814022.png</td>\n",
       "    </tr>\n",
       "    <tr>\n",
       "      <th>1</th>\n",
       "      <td>チキンカツ柚子胡椒マヨ</td>\n",
       "      <td>264.0</td>\n",
       "      <td>406.0</td>\n",
       "      <td>16.8</td>\n",
       "      <td>27.9</td>\n",
       "      <td>19.7</td>\n",
       "      <td>1.2</td>\n",
       "      <td>25.0</td>\n",
       "      <td>33.0</td>\n",
       "      <td>https://west2-univ.jp/menu_img/png_sp/814082.png</td>\n",
       "    </tr>\n",
       "    <tr>\n",
       "      <th>2</th>\n",
       "      <td>ハンバーグトマトソース</td>\n",
       "      <td>264.0</td>\n",
       "      <td>228.0</td>\n",
       "      <td>15.3</td>\n",
       "      <td>11.2</td>\n",
       "      <td>15.5</td>\n",
       "      <td>1.6</td>\n",
       "      <td>52.0</td>\n",
       "      <td>70.0</td>\n",
       "      <td>https://west2-univ.jp/menu_img/png_sp/814037.png</td>\n",
       "    </tr>\n",
       "    <tr>\n",
       "      <th>3</th>\n",
       "      <td>豚ブロッコリー和風炒め</td>\n",
       "      <td>264.0</td>\n",
       "      <td>280.0</td>\n",
       "      <td>18.1</td>\n",
       "      <td>18.6</td>\n",
       "      <td>9.6</td>\n",
       "      <td>1.7</td>\n",
       "      <td>85.0</td>\n",
       "      <td>200.0</td>\n",
       "      <td>https://west2-univ.jp/menu_img/png_sp/814202.png</td>\n",
       "    </tr>\n",
       "    <tr>\n",
       "      <th>4</th>\n",
       "      <td>ビーフシチュー</td>\n",
       "      <td>264.0</td>\n",
       "      <td>316.0</td>\n",
       "      <td>9.2</td>\n",
       "      <td>16.2</td>\n",
       "      <td>30.6</td>\n",
       "      <td>1.7</td>\n",
       "      <td>22.0</td>\n",
       "      <td>80.0</td>\n",
       "      <td>https://west2-univ.jp/menu_img/png_sp/814126.png</td>\n",
       "    </tr>\n",
       "  </tbody>\n",
       "</table>\n",
       "</div>"
      ],
      "text/plain": [
       "            name  price  energy  protein   fat  carbohydrates  salt  calcium  \\\n",
       "0  ローストンカツおろしソース  308.0   413.0     15.6  26.0           27.0   2.4     29.0   \n",
       "1    チキンカツ柚子胡椒マヨ  264.0   406.0     16.8  27.9           19.7   1.2     25.0   \n",
       "2    ハンバーグトマトソース  264.0   228.0     15.3  11.2           15.5   1.6     52.0   \n",
       "3    豚ブロッコリー和風炒め  264.0   280.0     18.1  18.6            9.6   1.7     85.0   \n",
       "4        ビーフシチュー  264.0   316.0      9.2  16.2           30.6   1.7     22.0   \n",
       "\n",
       "   vegetable                                           img_url  \n",
       "0       49.0  https://west2-univ.jp/menu_img/png_sp/814022.png  \n",
       "1       33.0  https://west2-univ.jp/menu_img/png_sp/814082.png  \n",
       "2       70.0  https://west2-univ.jp/menu_img/png_sp/814037.png  \n",
       "3      200.0  https://west2-univ.jp/menu_img/png_sp/814202.png  \n",
       "4       80.0  https://west2-univ.jp/menu_img/png_sp/814126.png  "
      ]
     },
     "execution_count": 4,
     "metadata": {},
     "output_type": "execute_result"
    }
   ],
   "source": [
    "df.head()"
   ]
  },
  {
   "cell_type": "code",
   "execution_count": 5,
   "id": "cae0ed6a",
   "metadata": {},
   "outputs": [],
   "source": [
    "#　必要量を入れた辞書\n",
    "r_dic = {\n",
    "    'energy': 2650 / 3,\n",
    "    'protein': 65 / 3 ,\n",
    "    'fat': 60 / 3,\n",
    "    'carbohydrates': 300 / 3,\n",
    "    'salt' : 7.5 / 3, #以下\n",
    "    'calcium' : 800 / 3,\n",
    "    'vegetable': 350 / 3 # 以上    \n",
    "}"
   ]
  },
  {
   "cell_type": "markdown",
   "id": "71df8a51",
   "metadata": {},
   "source": [
    "決定変数  \n",
    "$x_{s}$ : メニューsを選ぶかどうか"
   ]
  },
  {
   "cell_type": "code",
   "execution_count": 6,
   "id": "50069e2e",
   "metadata": {},
   "outputs": [],
   "source": [
    "import pulp "
   ]
  },
  {
   "cell_type": "code",
   "execution_count": 7,
   "id": "a5282cba-6b51-49a1-991d-512b764109a0",
   "metadata": {},
   "outputs": [],
   "source": [
    "# df['name'].to_dict()"
   ]
  },
  {
   "cell_type": "code",
   "execution_count": 8,
   "id": "aa769809",
   "metadata": {},
   "outputs": [],
   "source": [
    "S = list(range(len(df)))"
   ]
  },
  {
   "cell_type": "code",
   "execution_count": 9,
   "id": "92f03068",
   "metadata": {},
   "outputs": [],
   "source": [
    "# 上限金額\n",
    "max_price = 1000\n",
    "# 食べたい商品\n",
    "T_plus = []\n",
    "T_minus = []"
   ]
  },
  {
   "cell_type": "code",
   "execution_count": 10,
   "id": "0cf54bbb-a5b0-4216-be07-1ac58d3edea4",
   "metadata": {},
   "outputs": [
    {
     "name": "stderr",
     "output_type": "stream",
     "text": [
      "/usr/local/lib/python3.9/site-packages/pulp/pulp.py:1352: UserWarning: Spaces are not permitted in the name. Converted to '_'\n",
      "  warnings.warn(\"Spaces are not permitted in the name. Converted to '_'\")\n"
     ]
    }
   ],
   "source": [
    "# 問題設定\n",
    "problem = pulp.LpProblem('Problem Name', pulp.LpMinimize) \n",
    "xs = pulp.LpVariable.dicts('x', S, 0, 1, 'Integer')\n",
    "# スラック変数の定義\n",
    "nutrition_list = ['energy', 'protein', 'fat', 'carbohydrates', 'salt', 'calcium', 'vegetable']\n",
    "zs = pulp.LpVariable.dict('z', nutrition_list, lowBound=0,cat='Continuous')"
   ]
  },
  {
   "cell_type": "code",
   "execution_count": 11,
   "id": "90926c22-dda8-482a-83eb-480eb308e311",
   "metadata": {},
   "outputs": [
    {
     "data": {
      "text/plain": [
       "{'energy': z_energy,\n",
       " 'protein': z_protein,\n",
       " 'fat': z_fat,\n",
       " 'carbohydrates': z_carbohydrates,\n",
       " 'salt': z_salt,\n",
       " 'calcium': z_calcium,\n",
       " 'vegetable': z_vegetable}"
      ]
     },
     "execution_count": 11,
     "metadata": {},
     "output_type": "execute_result"
    }
   ],
   "source": [
    "zs"
   ]
  },
  {
   "cell_type": "code",
   "execution_count": 12,
   "id": "8a84d76b-e076-4eb7-bd1b-f283270099ba",
   "metadata": {},
   "outputs": [],
   "source": [
    "# 目的関数　slack変数z\n",
    "problem += pulp.lpSum(zs)\n",
    "\n",
    "# 制約式\n",
    "# 好き嫌い制約\n",
    "for idx in T_plus:\n",
    "    problem += xs[idx] == 1\n",
    "for idx in T_minus:\n",
    "    problem += xs[idx] == 0\n",
    "\n",
    "# 金額制約\n",
    "problem += pulp.lpSum(df['price'][i]*xs[s] for i,s in enumerate(S)) <= max_price\n",
    "\n",
    "# 栄養制約\n",
    "for nut in nutrition_list:    \n",
    "    if nut == 'salt':\n",
    "        problem += pulp.lpSum(df[nut][i]*xs[s] for i,s in enumerate(S)) - r_dic[nut] <= zs[nut]*r_dic[nut]\n",
    "    if nut == 'vegetable':\n",
    "        problem += pulp.lpSum(df[nut][i]*xs[s] for i,s in enumerate(S)) - r_dic[nut] >= -zs[nut]*r_dic[nut]\n",
    "    else :\n",
    "        problem += pulp.lpSum(df[nut][i]*xs[s] for i,s in enumerate(S)) - r_dic[nut] <= zs[nut]*r_dic[nut]\n",
    "        problem += pulp.lpSum(df[nut][i]*xs[s] for i,s in enumerate(S)) - r_dic[nut] >= -zs[nut]*r_dic[nut]"
   ]
  },
  {
   "cell_type": "code",
   "execution_count": 13,
   "id": "55d57512",
   "metadata": {},
   "outputs": [
    {
     "name": "stdout",
     "output_type": "stream",
     "text": [
      "Welcome to the CBC MILP Solver \n",
      "Version: 2.10.3 \n",
      "Build Date: Dec 15 2019 \n",
      "\n",
      "command line - /usr/local/lib/python3.9/site-packages/pulp/apis/../solverdir/cbc/osx/64/cbc /var/folders/kc/5vks2chj5jg_zq9fvglb01jr0000gp/T/1891a79f1d3d493e9a06887c5338899c-pulp.mps timeMode elapsed branch printingOptions all solution /var/folders/kc/5vks2chj5jg_zq9fvglb01jr0000gp/T/1891a79f1d3d493e9a06887c5338899c-pulp.sol (default strategy 1)\n",
      "At line 2 NAME          MODEL\n",
      "At line 3 ROWS\n",
      "At line 20 COLUMNS\n",
      "At line 586 RHS\n",
      "At line 602 BOUNDS\n",
      "At line 636 ENDATA\n",
      "Problem MODEL has 15 rows, 40 columns and 492 elements\n",
      "Coin0008I MODEL read with 0 errors\n",
      "Option for timeMode changed from cpu to elapsed\n",
      "Continuous objective value is 0.230343 - 0.00 seconds\n",
      "Cgl0004I processed model has 14 rows, 40 columns (33 integer (33 of which binary)) and 460 elements\n",
      "Cbc0038I Initial state - 6 integers unsatisfied sum - 1.36329\n",
      "Cbc0038I Pass   1: suminf.    0.00000 (0) obj. 0.891715 iterations 13\n",
      "Cbc0038I Solution found of 0.891715\n",
      "Cbc0038I Relaxing continuous gives 0.891715\n",
      "Cbc0038I Before mini branch and bound, 27 integers at bound fixed and 1 continuous\n",
      "Cbc0038I Full problem 14 rows 40 columns, reduced to 13 rows 12 columns\n",
      "Cbc0038I Mini branch and bound did not improve solution (0.04 seconds)\n",
      "Cbc0038I Freeing continuous variables gives a solution of 0.891715\n",
      "Cbc0038I Round again with cutoff of 0.825569\n",
      "Cbc0038I Pass   2: suminf.    0.06486 (2) obj. 0.825569 iterations 2\n",
      "Cbc0038I Pass   3: suminf.    0.89633 (4) obj. 0.825569 iterations 7\n",
      "Cbc0038I Pass   4: suminf.    0.06486 (2) obj. 0.825569 iterations 5\n",
      "Cbc0038I Pass   5: suminf.    1.17838 (5) obj. 0.825569 iterations 11\n",
      "Cbc0038I Pass   6: suminf.    0.74368 (6) obj. 0.825569 iterations 3\n",
      "Cbc0038I Pass   7: suminf.    1.02724 (3) obj. 0.825569 iterations 13\n",
      "Cbc0038I Pass   8: suminf.    0.64150 (3) obj. 0.825569 iterations 3\n",
      "Cbc0038I Pass   9: suminf.    1.05696 (4) obj. 0.825569 iterations 11\n",
      "Cbc0038I Pass  10: suminf.    0.64150 (3) obj. 0.825569 iterations 4\n",
      "Cbc0038I Pass  11: suminf.    0.35849 (1) obj. 0.825569 iterations 8\n",
      "Cbc0038I Pass  12: suminf.    0.16260 (1) obj. 0.825569 iterations 6\n",
      "Cbc0038I Pass  13: suminf.    0.19905 (1) obj. 0.825569 iterations 3\n",
      "Cbc0038I Pass  14: suminf.    0.72544 (3) obj. 0.825569 iterations 11\n",
      "Cbc0038I Pass  15: suminf.    0.68482 (2) obj. 0.825569 iterations 1\n",
      "Cbc0038I Pass  16: suminf.    0.70756 (3) obj. 0.825569 iterations 5\n",
      "Cbc0038I Pass  17: suminf.    0.59124 (2) obj. 0.825569 iterations 2\n",
      "Cbc0038I Pass  18: suminf.    0.84494 (3) obj. 0.825569 iterations 5\n",
      "Cbc0038I Pass  19: suminf.    0.54250 (4) obj. 0.825569 iterations 5\n",
      "Cbc0038I Pass  20: suminf.    0.46965 (3) obj. 0.825569 iterations 3\n",
      "Cbc0038I Pass  21: suminf.    0.47294 (3) obj. 0.825569 iterations 2\n",
      "Cbc0038I Pass  22: suminf.    1.11459 (4) obj. 0.825569 iterations 7\n",
      "Cbc0038I Pass  23: suminf.    0.73320 (4) obj. 0.825569 iterations 4\n",
      "Cbc0038I Pass  24: suminf.    0.67749 (2) obj. 0.825569 iterations 5\n",
      "Cbc0038I Pass  25: suminf.    0.24423 (2) obj. 0.825569 iterations 4\n",
      "Cbc0038I Pass  26: suminf.    0.34521 (2) obj. 0.825569 iterations 2\n",
      "Cbc0038I Pass  27: suminf.    1.01166 (4) obj. 0.825569 iterations 7\n",
      "Cbc0038I Pass  28: suminf.    0.92475 (4) obj. 0.825569 iterations 1\n",
      "Cbc0038I Pass  29: suminf.    0.65897 (2) obj. 0.825569 iterations 4\n",
      "Cbc0038I Pass  30: suminf.    0.60844 (2) obj. 0.825569 iterations 1\n",
      "Cbc0038I Pass  31: suminf.    0.38744 (3) obj. 0.825569 iterations 7\n",
      "Cbc0038I No solution found this major pass\n",
      "Cbc0038I Before mini branch and bound, 10 integers at bound fixed and 0 continuous\n",
      "Cbc0038I Full problem 14 rows 40 columns, reduced to 14 rows 30 columns\n",
      "Cbc0038I Mini branch and bound improved solution from 0.891715 to 0.672688 (0.06 seconds)\n",
      "Cbc0038I Round again with cutoff of 0.584211\n",
      "Cbc0038I Pass  31: suminf.    0.30519 (3) obj. 0.584211 iterations 1\n",
      "Cbc0038I Pass  32: suminf.    1.03751 (4) obj. 0.584211 iterations 7\n",
      "Cbc0038I Pass  33: suminf.    0.85329 (3) obj. 0.584211 iterations 3\n",
      "Cbc0038I Pass  34: suminf.    1.24690 (4) obj. 0.584211 iterations 15\n",
      "Cbc0038I Pass  35: suminf.    0.93626 (5) obj. 0.584211 iterations 6\n",
      "Cbc0038I Pass  36: suminf.    0.93626 (5) obj. 0.584211 iterations 0\n",
      "Cbc0038I Pass  37: suminf.    1.39756 (4) obj. 0.584211 iterations 5\n",
      "Cbc0038I Pass  38: suminf.    0.91853 (4) obj. 0.584211 iterations 2\n",
      "Cbc0038I Pass  39: suminf.    0.91853 (4) obj. 0.584211 iterations 0\n",
      "Cbc0038I Pass  40: suminf.    0.98117 (3) obj. 0.584211 iterations 5\n",
      "Cbc0038I Pass  41: suminf.    0.93626 (5) obj. 0.584211 iterations 3\n",
      "Cbc0038I Pass  42: suminf.    1.39756 (4) obj. 0.584211 iterations 5\n",
      "Cbc0038I Pass  43: suminf.    0.91853 (4) obj. 0.584211 iterations 2\n",
      "Cbc0038I Pass  44: suminf.    0.91853 (4) obj. 0.584211 iterations 0\n",
      "Cbc0038I Pass  45: suminf.    0.98117 (3) obj. 0.584211 iterations 5\n",
      "Cbc0038I Pass  46: suminf.    0.93626 (5) obj. 0.584211 iterations 3\n",
      "Cbc0038I Pass  47: suminf.    1.39756 (4) obj. 0.584211 iterations 5\n",
      "Cbc0038I Pass  48: suminf.    0.91853 (4) obj. 0.584211 iterations 2\n",
      "Cbc0038I Pass  49: suminf.    0.91853 (4) obj. 0.584211 iterations 0\n",
      "Cbc0038I Pass  50: suminf.    0.98117 (3) obj. 0.584211 iterations 5\n",
      "Cbc0038I Pass  51: suminf.    0.93626 (5) obj. 0.584211 iterations 3\n",
      "Cbc0038I Pass  52: suminf.    1.39756 (4) obj. 0.584211 iterations 5\n",
      "Cbc0038I Pass  53: suminf.    0.91853 (4) obj. 0.584211 iterations 2\n",
      "Cbc0038I Pass  54: suminf.    0.91853 (4) obj. 0.584211 iterations 0\n",
      "Cbc0038I Pass  55: suminf.    0.98117 (3) obj. 0.584211 iterations 5\n",
      "Cbc0038I Pass  56: suminf.    0.93626 (5) obj. 0.584211 iterations 3\n",
      "Cbc0038I Pass  57: suminf.    1.39756 (4) obj. 0.584211 iterations 5\n",
      "Cbc0038I Pass  58: suminf.    0.91853 (4) obj. 0.584211 iterations 2\n",
      "Cbc0038I Pass  59: suminf.    0.91853 (4) obj. 0.584211 iterations 0\n",
      "Cbc0038I Pass  60: suminf.    0.98117 (3) obj. 0.584211 iterations 5\n",
      "Cbc0038I No solution found this major pass\n",
      "Cbc0038I Before mini branch and bound, 15 integers at bound fixed and 0 continuous\n",
      "Cbc0038I Full problem 14 rows 40 columns, reduced to 14 rows 25 columns\n",
      "Cbc0038I Mini branch and bound did not improve solution (0.06 seconds)\n",
      "Cbc0038I After 0.06 seconds - Feasibility pump exiting with objective of 0.672688 - took 0.02 seconds\n",
      "Cbc0012I Integer solution of 0.67268832 found by feasibility pump after 0 iterations and 0 nodes (0.06 seconds)\n",
      "Cbc0038I Full problem 14 rows 40 columns, reduced to 14 rows 17 columns\n",
      "Cbc0031I 9 added rows had average density of 30.333333\n",
      "Cbc0013I At root node, 9 cuts changed objective from 0.23034311 to 0.33813993 in 100 passes\n",
      "Cbc0014I Cut generator 0 (Probing) - 49 row cuts average 14.5 elements, 4 column cuts (4 active)  in 0.011 seconds - new frequency is -100\n",
      "Cbc0014I Cut generator 1 (Gomory) - 500 row cuts average 31.4 elements, 0 column cuts (0 active)  in 0.012 seconds - new frequency is 1\n",
      "Cbc0014I Cut generator 2 (Knapsack) - 0 row cuts average 0.0 elements, 0 column cuts (0 active)  in 0.024 seconds - new frequency is -100\n",
      "Cbc0014I Cut generator 3 (Clique) - 0 row cuts average 0.0 elements, 0 column cuts (0 active)  in 0.001 seconds - new frequency is -100\n",
      "Cbc0014I Cut generator 4 (MixedIntegerRounding2) - 605 row cuts average 21.7 elements, 0 column cuts (0 active)  in 0.027 seconds - new frequency is 1\n",
      "Cbc0014I Cut generator 5 (FlowCover) - 0 row cuts average 0.0 elements, 0 column cuts (0 active)  in 0.015 seconds - new frequency is -100\n",
      "Cbc0014I Cut generator 6 (TwoMirCuts) - 397 row cuts average 22.6 elements, 0 column cuts (0 active)  in 0.019 seconds - new frequency is 1\n",
      "Cbc0010I After 0 nodes, 1 on tree, 0.67268832 best solution, best possible 0.33813993 (0.30 seconds)\n",
      "Cbc0001I Search completed - best objective 0.6726883164002628, took 1926 iterations and 8 nodes (0.34 seconds)\n",
      "Cbc0032I Strong branching done 74 times (522 iterations), fathomed 2 nodes and fixed 2 variables\n",
      "Cbc0035I Maximum depth 2, 56 variables fixed on reduced cost\n",
      "Cuts at root node changed objective from 0.230343 to 0.33814\n",
      "Probing was tried 100 times and created 53 cuts of which 0 were active after adding rounds of cuts (0.011 seconds)\n",
      "Gomory was tried 150 times and created 580 cuts of which 0 were active after adding rounds of cuts (0.015 seconds)\n",
      "Knapsack was tried 100 times and created 0 cuts of which 0 were active after adding rounds of cuts (0.024 seconds)\n",
      "Clique was tried 100 times and created 0 cuts of which 0 were active after adding rounds of cuts (0.001 seconds)\n",
      "MixedIntegerRounding2 was tried 150 times and created 998 cuts of which 0 were active after adding rounds of cuts (0.037 seconds)\n",
      "FlowCover was tried 100 times and created 0 cuts of which 0 were active after adding rounds of cuts (0.015 seconds)\n",
      "TwoMirCuts was tried 150 times and created 670 cuts of which 0 were active after adding rounds of cuts (0.028 seconds)\n",
      "ZeroHalf was tried 1 times and created 0 cuts of which 0 were active after adding rounds of cuts (0.000 seconds)\n",
      "\n",
      "Result - Optimal solution found\n",
      "\n",
      "Objective value:                0.67268832\n",
      "Enumerated nodes:               8\n",
      "Total iterations:               1926\n",
      "Time (CPU seconds):             0.26\n",
      "Time (Wallclock seconds):       0.35\n",
      "\n",
      "Option for printingOptions changed from normal to all\n",
      "Total time (CPU seconds):       0.26   (Wallclock seconds):       0.37\n",
      "\n"
     ]
    }
   ],
   "source": [
    "sol = problem.solve()"
   ]
  },
  {
   "cell_type": "code",
   "execution_count": 14,
   "id": "e6e2a986",
   "metadata": {},
   "outputs": [
    {
     "data": {
      "text/plain": [
       "'Optimal'"
      ]
     },
     "execution_count": 14,
     "metadata": {},
     "output_type": "execute_result"
    }
   ],
   "source": [
    "pulp.LpStatus[sol]"
   ]
  },
  {
   "cell_type": "code",
   "execution_count": 15,
   "id": "5966c470",
   "metadata": {},
   "outputs": [],
   "source": [
    "ret_dic = {}\n",
    "total_price = 0\n",
    "for nut in nutrition_list:\n",
    "    ret_dic[nut] = 0.\n",
    "for i in xs:\n",
    "    if xs[i].value():\n",
    "        total_price += df['price'][i]\n",
    "        for nut in nutrition_list:\n",
    "            ret_dic[nut] += df[nut][i]"
   ]
  },
  {
   "cell_type": "code",
   "execution_count": 16,
   "id": "a9bd1ccf-e117-4c36-8b42-d12f994d73b7",
   "metadata": {},
   "outputs": [
    {
     "name": "stdout",
     "output_type": "stream",
     "text": [
      "energy -294.33333333333337\n",
      "protein 1.9333333333333336\n",
      "fat -0.8000000000000007\n",
      "carbohydrates -16.900000000000006\n",
      "salt 0.10000000000000009\n",
      "calcium 0.3333333333333144\n",
      "vegetable 57.33333333333333\n"
     ]
    }
   ],
   "source": [
    "for nut in nutrition_list:\n",
    "    print(nut, ret_dic[nut] - r_dic[nut])"
   ]
  },
  {
   "cell_type": "code",
   "execution_count": 17,
   "id": "bd46bc6b-2962-4883-9016-66985beefdd8",
   "metadata": {},
   "outputs": [
    {
     "name": "stdout",
     "output_type": "stream",
     "text": [
      "0.33320755\n",
      "0.089230769\n",
      "0.04\n",
      "0.169\n",
      "0.04\n",
      "0.00125\n",
      "0.0\n"
     ]
    }
   ],
   "source": [
    "for i in zs:\n",
    "    print(zs[i].value())"
   ]
  },
  {
   "cell_type": "code",
   "execution_count": 18,
   "id": "c9792fee",
   "metadata": {},
   "outputs": [
    {
     "name": "stdout",
     "output_type": "stream",
     "text": [
      "目的関数 : 0.672688319\n",
      "価格 : 579.0　円\n",
      "ポテト野菜サラダ 110.0\n",
      "蒸し鶏ビーンズサラダ 176.0\n",
      "豚汁 110.0\n",
      "大学芋 88.0\n",
      "大学生協コーヒー 95.0\n"
     ]
    }
   ],
   "source": [
    "print(f\"目的関数 : {problem.objective.value()}\")\n",
    "print(f\"価格 : {total_price}　円\")\n",
    "for i in range(len(S)):\n",
    "    if xs[i].value():\n",
    "        print(df['name'][i], df['price'][i])"
   ]
  },
  {
   "cell_type": "code",
   "execution_count": 19,
   "id": "cea2d69b-69f8-44b6-9134-00692db194d5",
   "metadata": {},
   "outputs": [
    {
     "data": {
      "text/html": [
       "<div>\n",
       "<style scoped>\n",
       "    .dataframe tbody tr th:only-of-type {\n",
       "        vertical-align: middle;\n",
       "    }\n",
       "\n",
       "    .dataframe tbody tr th {\n",
       "        vertical-align: top;\n",
       "    }\n",
       "\n",
       "    .dataframe thead th {\n",
       "        text-align: right;\n",
       "    }\n",
       "</style>\n",
       "<table border=\"1\" class=\"dataframe\">\n",
       "  <thead>\n",
       "    <tr style=\"text-align: right;\">\n",
       "      <th></th>\n",
       "      <th>name</th>\n",
       "      <th>price</th>\n",
       "      <th>energy</th>\n",
       "      <th>protein</th>\n",
       "      <th>fat</th>\n",
       "      <th>carbohydrates</th>\n",
       "      <th>salt</th>\n",
       "      <th>calcium</th>\n",
       "      <th>vegetable</th>\n",
       "      <th>img_url</th>\n",
       "    </tr>\n",
       "  </thead>\n",
       "  <tbody>\n",
       "    <tr>\n",
       "      <th>8</th>\n",
       "      <td>ポテト野菜サラダ</td>\n",
       "      <td>110.0</td>\n",
       "      <td>98.0</td>\n",
       "      <td>1.7</td>\n",
       "      <td>5.2</td>\n",
       "      <td>11.9</td>\n",
       "      <td>0.5</td>\n",
       "      <td>17.0</td>\n",
       "      <td>53.0</td>\n",
       "      <td>https://west2-univ.jp/menu_img/png_sp/814418.png</td>\n",
       "    </tr>\n",
       "    <tr>\n",
       "      <th>16</th>\n",
       "      <td>蒸し鶏ビーンズサラダ</td>\n",
       "      <td>176.0</td>\n",
       "      <td>91.0</td>\n",
       "      <td>10.5</td>\n",
       "      <td>1.9</td>\n",
       "      <td>9.1</td>\n",
       "      <td>0.3</td>\n",
       "      <td>42.0</td>\n",
       "      <td>67.0</td>\n",
       "      <td>https://west2-univ.jp/menu_img/png_sp/814325.png</td>\n",
       "    </tr>\n",
       "    <tr>\n",
       "      <th>17</th>\n",
       "      <td>豚汁</td>\n",
       "      <td>110.0</td>\n",
       "      <td>102.0</td>\n",
       "      <td>6.0</td>\n",
       "      <td>3.8</td>\n",
       "      <td>11.2</td>\n",
       "      <td>1.7</td>\n",
       "      <td>33.0</td>\n",
       "      <td>54.0</td>\n",
       "      <td>https://west2-univ.jp/menu_img/png_sp/814400.png</td>\n",
       "    </tr>\n",
       "    <tr>\n",
       "      <th>29</th>\n",
       "      <td>大学芋</td>\n",
       "      <td>88.0</td>\n",
       "      <td>156.0</td>\n",
       "      <td>0.6</td>\n",
       "      <td>3.1</td>\n",
       "      <td>31.9</td>\n",
       "      <td>0.0</td>\n",
       "      <td>13.0</td>\n",
       "      <td>0.0</td>\n",
       "      <td>https://west2-univ.jp/menu_img/png_sp/814817.png</td>\n",
       "    </tr>\n",
       "    <tr>\n",
       "      <th>32</th>\n",
       "      <td>大学生協コーヒー</td>\n",
       "      <td>95.0</td>\n",
       "      <td>142.0</td>\n",
       "      <td>4.8</td>\n",
       "      <td>5.2</td>\n",
       "      <td>19.0</td>\n",
       "      <td>0.1</td>\n",
       "      <td>162.0</td>\n",
       "      <td>0.0</td>\n",
       "      <td>https://west2-univ.jp/menu_img/png_sp/814818.png</td>\n",
       "    </tr>\n",
       "  </tbody>\n",
       "</table>\n",
       "</div>"
      ],
      "text/plain": [
       "          name  price  energy  protein  fat  carbohydrates  salt  calcium  \\\n",
       "8     ポテト野菜サラダ  110.0    98.0      1.7  5.2           11.9   0.5     17.0   \n",
       "16  蒸し鶏ビーンズサラダ  176.0    91.0     10.5  1.9            9.1   0.3     42.0   \n",
       "17          豚汁  110.0   102.0      6.0  3.8           11.2   1.7     33.0   \n",
       "29         大学芋   88.0   156.0      0.6  3.1           31.9   0.0     13.0   \n",
       "32    大学生協コーヒー   95.0   142.0      4.8  5.2           19.0   0.1    162.0   \n",
       "\n",
       "    vegetable                                           img_url  \n",
       "8        53.0  https://west2-univ.jp/menu_img/png_sp/814418.png  \n",
       "16       67.0  https://west2-univ.jp/menu_img/png_sp/814325.png  \n",
       "17       54.0  https://west2-univ.jp/menu_img/png_sp/814400.png  \n",
       "29        0.0  https://west2-univ.jp/menu_img/png_sp/814817.png  \n",
       "32        0.0  https://west2-univ.jp/menu_img/png_sp/814818.png  "
      ]
     },
     "execution_count": 19,
     "metadata": {},
     "output_type": "execute_result"
    }
   ],
   "source": [
    "df.iloc[[i for i,v in enumerate(xs.values()) if v.value() == 1]]"
   ]
  }
 ],
 "metadata": {
  "kernelspec": {
   "display_name": "Python 3 (ipykernel)",
   "language": "python",
   "name": "python3"
  },
  "language_info": {
   "codemirror_mode": {
    "name": "ipython",
    "version": 3
   },
   "file_extension": ".py",
   "mimetype": "text/x-python",
   "name": "python",
   "nbconvert_exporter": "python",
   "pygments_lexer": "ipython3",
   "version": "3.9.14"
  }
 },
 "nbformat": 4,
 "nbformat_minor": 5
}
