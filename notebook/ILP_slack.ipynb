{
 "cells": [
  {
   "cell_type": "code",
   "execution_count": 1,
   "id": "319e55db",
   "metadata": {},
   "outputs": [],
   "source": [
    "import pandas as pd"
   ]
  },
  {
   "cell_type": "code",
   "execution_count": 2,
   "id": "c9ab59c1",
   "metadata": {},
   "outputs": [],
   "source": [
    "df = pd.read_csv('../menu.csv')"
   ]
  },
  {
   "cell_type": "code",
   "execution_count": 3,
   "id": "26677a59",
   "metadata": {},
   "outputs": [
    {
     "data": {
      "text/plain": [
       "50"
      ]
     },
     "execution_count": 3,
     "metadata": {},
     "output_type": "execute_result"
    }
   ],
   "source": [
    "len(df)"
   ]
  },
  {
   "cell_type": "code",
   "execution_count": 4,
   "id": "dd3f39bf",
   "metadata": {},
   "outputs": [
    {
     "data": {
      "text/html": [
       "<div>\n",
       "<style scoped>\n",
       "    .dataframe tbody tr th:only-of-type {\n",
       "        vertical-align: middle;\n",
       "    }\n",
       "\n",
       "    .dataframe tbody tr th {\n",
       "        vertical-align: top;\n",
       "    }\n",
       "\n",
       "    .dataframe thead th {\n",
       "        text-align: right;\n",
       "    }\n",
       "</style>\n",
       "<table border=\"1\" class=\"dataframe\">\n",
       "  <thead>\n",
       "    <tr style=\"text-align: right;\">\n",
       "      <th></th>\n",
       "      <th>name</th>\n",
       "      <th>price</th>\n",
       "      <th>energy</th>\n",
       "      <th>protein</th>\n",
       "      <th>fat</th>\n",
       "      <th>carbohydrates</th>\n",
       "      <th>salt</th>\n",
       "      <th>calcium</th>\n",
       "      <th>vegetable</th>\n",
       "      <th>img_url</th>\n",
       "    </tr>\n",
       "  </thead>\n",
       "  <tbody>\n",
       "    <tr>\n",
       "      <th>0</th>\n",
       "      <td>ローストンカツおろしソース</td>\n",
       "      <td>264.0</td>\n",
       "      <td>406.0</td>\n",
       "      <td>15.3</td>\n",
       "      <td>26.0</td>\n",
       "      <td>25.3</td>\n",
       "      <td>2.4</td>\n",
       "      <td>16.0</td>\n",
       "      <td>16.0</td>\n",
       "      <td>https://west2-univ.jp/menu_img/png_sp/824022.png</td>\n",
       "    </tr>\n",
       "    <tr>\n",
       "      <th>1</th>\n",
       "      <td>チキンカツ柚子胡椒マヨ</td>\n",
       "      <td>220.0</td>\n",
       "      <td>399.0</td>\n",
       "      <td>16.4</td>\n",
       "      <td>27.9</td>\n",
       "      <td>18.1</td>\n",
       "      <td>1.2</td>\n",
       "      <td>11.0</td>\n",
       "      <td>0.0</td>\n",
       "      <td>https://west2-univ.jp/menu_img/png_sp/824082.png</td>\n",
       "    </tr>\n",
       "    <tr>\n",
       "      <th>2</th>\n",
       "      <td>ハンバーグトマトソース</td>\n",
       "      <td>220.0</td>\n",
       "      <td>221.0</td>\n",
       "      <td>15.0</td>\n",
       "      <td>11.2</td>\n",
       "      <td>13.8</td>\n",
       "      <td>1.6</td>\n",
       "      <td>38.0</td>\n",
       "      <td>37.0</td>\n",
       "      <td>https://west2-univ.jp/menu_img/png_sp/824037.png</td>\n",
       "    </tr>\n",
       "    <tr>\n",
       "      <th>3</th>\n",
       "      <td>豚ブロッコリー和風炒め</td>\n",
       "      <td>264.0</td>\n",
       "      <td>280.0</td>\n",
       "      <td>18.1</td>\n",
       "      <td>18.6</td>\n",
       "      <td>9.6</td>\n",
       "      <td>1.7</td>\n",
       "      <td>85.0</td>\n",
       "      <td>200.0</td>\n",
       "      <td>https://west2-univ.jp/menu_img/png_sp/814202.png</td>\n",
       "    </tr>\n",
       "    <tr>\n",
       "      <th>4</th>\n",
       "      <td>ビーフシチュー</td>\n",
       "      <td>264.0</td>\n",
       "      <td>316.0</td>\n",
       "      <td>9.2</td>\n",
       "      <td>16.2</td>\n",
       "      <td>30.6</td>\n",
       "      <td>1.7</td>\n",
       "      <td>22.0</td>\n",
       "      <td>80.0</td>\n",
       "      <td>https://west2-univ.jp/menu_img/png_sp/814126.png</td>\n",
       "    </tr>\n",
       "  </tbody>\n",
       "</table>\n",
       "</div>"
      ],
      "text/plain": [
       "            name  price  energy  protein   fat  carbohydrates  salt  calcium  \\\n",
       "0  ローストンカツおろしソース  264.0   406.0     15.3  26.0           25.3   2.4     16.0   \n",
       "1    チキンカツ柚子胡椒マヨ  220.0   399.0     16.4  27.9           18.1   1.2     11.0   \n",
       "2    ハンバーグトマトソース  220.0   221.0     15.0  11.2           13.8   1.6     38.0   \n",
       "3    豚ブロッコリー和風炒め  264.0   280.0     18.1  18.6            9.6   1.7     85.0   \n",
       "4        ビーフシチュー  264.0   316.0      9.2  16.2           30.6   1.7     22.0   \n",
       "\n",
       "   vegetable                                           img_url  \n",
       "0       16.0  https://west2-univ.jp/menu_img/png_sp/824022.png  \n",
       "1        0.0  https://west2-univ.jp/menu_img/png_sp/824082.png  \n",
       "2       37.0  https://west2-univ.jp/menu_img/png_sp/824037.png  \n",
       "3      200.0  https://west2-univ.jp/menu_img/png_sp/814202.png  \n",
       "4       80.0  https://west2-univ.jp/menu_img/png_sp/814126.png  "
      ]
     },
     "execution_count": 4,
     "metadata": {},
     "output_type": "execute_result"
    }
   ],
   "source": [
    "df.head()"
   ]
  },
  {
   "cell_type": "code",
   "execution_count": 5,
   "id": "cae0ed6a",
   "metadata": {},
   "outputs": [],
   "source": [
    "#　必要量を入れた辞書\n",
    "r_dic = {\n",
    "    'energy': 2650 / 3,\n",
    "    'protein': 65 / 3 ,\n",
    "    'fat': 60 / 3,\n",
    "    'carbohydrates': 300 / 3,\n",
    "    'salt' : 7.5 / 3, #以下\n",
    "    'calcium' : 800 / 3,\n",
    "    'vegetable': 350 / 3 # 以上    \n",
    "}"
   ]
  },
  {
   "cell_type": "markdown",
   "id": "71df8a51",
   "metadata": {},
   "source": [
    "決定変数  \n",
    "$x_{s}$ : メニューsを選ぶかどうか"
   ]
  },
  {
   "cell_type": "code",
   "execution_count": 6,
   "id": "50069e2e",
   "metadata": {},
   "outputs": [],
   "source": [
    "import pulp "
   ]
  },
  {
   "cell_type": "code",
   "execution_count": 7,
   "id": "a5282cba-6b51-49a1-991d-512b764109a0",
   "metadata": {},
   "outputs": [],
   "source": [
    "# df['name'].to_dict()"
   ]
  },
  {
   "cell_type": "code",
   "execution_count": 8,
   "id": "aa769809",
   "metadata": {},
   "outputs": [],
   "source": [
    "S = list(range(len(df)))"
   ]
  },
  {
   "cell_type": "code",
   "execution_count": 9,
   "id": "92f03068",
   "metadata": {},
   "outputs": [],
   "source": [
    "# 上限金額\n",
    "max_price = 1000\n",
    "# 食べたい商品\n",
    "T_plus = []\n",
    "T_minus = []"
   ]
  },
  {
   "cell_type": "code",
   "execution_count": 10,
   "id": "0cf54bbb-a5b0-4216-be07-1ac58d3edea4",
   "metadata": {},
   "outputs": [
    {
     "name": "stderr",
     "output_type": "stream",
     "text": [
      "/usr/local/lib/python3.10/site-packages/pulp/pulp.py:1352: UserWarning: Spaces are not permitted in the name. Converted to '_'\n",
      "  warnings.warn(\"Spaces are not permitted in the name. Converted to '_'\")\n"
     ]
    }
   ],
   "source": [
    "# 問題設定\n",
    "problem = pulp.LpProblem('Problem Name', pulp.LpMinimize) \n",
    "xs = pulp.LpVariable.dicts('x', S, 0, 1, 'Integer')\n",
    "# スラック変数の定義\n",
    "nutrition_list = ['energy', 'protein', 'fat', 'carbohydrates', 'salt', 'calcium', 'vegetable']\n",
    "zs = pulp.LpVariable.dict('z', nutrition_list, lowBound=0,cat='Continuous')"
   ]
  },
  {
   "cell_type": "code",
   "execution_count": 11,
   "id": "90926c22-dda8-482a-83eb-480eb308e311",
   "metadata": {},
   "outputs": [
    {
     "data": {
      "text/plain": [
       "{'energy': z_energy,\n",
       " 'protein': z_protein,\n",
       " 'fat': z_fat,\n",
       " 'carbohydrates': z_carbohydrates,\n",
       " 'salt': z_salt,\n",
       " 'calcium': z_calcium,\n",
       " 'vegetable': z_vegetable}"
      ]
     },
     "execution_count": 11,
     "metadata": {},
     "output_type": "execute_result"
    }
   ],
   "source": [
    "zs"
   ]
  },
  {
   "cell_type": "code",
   "execution_count": 12,
   "id": "8a84d76b-e076-4eb7-bd1b-f283270099ba",
   "metadata": {},
   "outputs": [],
   "source": [
    "# 目的関数　slack変数z\n",
    "problem += pulp.lpSum(zs)\n",
    "\n",
    "# 制約式\n",
    "# 好き嫌い制約\n",
    "for idx in T_plus:\n",
    "    problem += xs[idx] == 1\n",
    "for idx in T_minus:\n",
    "    problem += xs[idx] == 0\n",
    "\n",
    "# 金額制約\n",
    "problem += pulp.lpSum(df['price'][i]*xs[s] for i,s in enumerate(S)) <= max_price\n",
    "\n",
    "# 栄養制約\n",
    "for nut in nutrition_list:    \n",
    "    if nut == 'salt':\n",
    "        problem += pulp.lpSum(df[nut][i]*xs[s] for i,s in enumerate(S)) - r_dic[nut] <= zs[nut]*r_dic[nut]\n",
    "    if nut == 'vegetable':\n",
    "        problem += pulp.lpSum(df[nut][i]*xs[s] for i,s in enumerate(S)) - r_dic[nut] >= -zs[nut]*r_dic[nut]\n",
    "    else :\n",
    "        problem += pulp.lpSum(df[nut][i]*xs[s] for i,s in enumerate(S)) - r_dic[nut] <= zs[nut]*r_dic[nut]\n",
    "        problem += pulp.lpSum(df[nut][i]*xs[s] for i,s in enumerate(S)) - r_dic[nut] >= -zs[nut]*r_dic[nut]"
   ]
  },
  {
   "cell_type": "code",
   "execution_count": 13,
   "id": "55d57512",
   "metadata": {},
   "outputs": [
    {
     "name": "stdout",
     "output_type": "stream",
     "text": [
      "Welcome to the CBC MILP Solver \n",
      "Version: 2.10.3 \n",
      "Build Date: Dec 15 2019 \n",
      "\n",
      "command line - /usr/local/lib/python3.10/site-packages/pulp/solverdir/cbc/osx/64/cbc /var/folders/kc/5vks2chj5jg_zq9fvglb01jr0000gp/T/cd0cb480103240629b4c671e287083ce-pulp.mps timeMode elapsed branch printingOptions all solution /var/folders/kc/5vks2chj5jg_zq9fvglb01jr0000gp/T/cd0cb480103240629b4c671e287083ce-pulp.sol (default strategy 1)\n",
      "At line 2 NAME          MODEL\n",
      "At line 3 ROWS\n",
      "At line 20 COLUMNS\n",
      "At line 862 RHS\n",
      "At line 878 BOUNDS\n",
      "At line 929 ENDATA\n",
      "Problem MODEL has 15 rows, 57 columns and 734 elements\n",
      "Coin0008I MODEL read with 0 errors\n",
      "Option for timeMode changed from cpu to elapsed\n",
      "Continuous objective value is 0.218619 - 0.00 seconds\n",
      "Cgl0004I processed model has 14 rows, 57 columns (50 integer (50 of which binary)) and 687 elements\n",
      "Cbc0038I Initial state - 6 integers unsatisfied sum - 1.97544\n",
      "Cbc0038I Pass   1: suminf.    0.00000 (0) obj. 0.978974 iterations 15\n",
      "Cbc0038I Solution found of 0.978974\n",
      "Cbc0038I Relaxing continuous gives 0.978974\n",
      "Cbc0038I Before mini branch and bound, 44 integers at bound fixed and 0 continuous\n",
      "Cbc0038I Full problem 14 rows 57 columns, reduced to 13 rows 13 columns\n",
      "Cbc0038I Mini branch and bound improved solution from 0.978974 to 0.907502 (0.00 seconds)\n",
      "Cbc0038I Round again with cutoff of 0.838694\n",
      "Cbc0038I Pass   2: suminf.    0.12815 (1) obj. 0.838694 iterations 1\n",
      "Cbc0038I Pass   3: suminf.    0.43154 (1) obj. 0.838694 iterations 9\n",
      "Cbc0038I Pass   4: suminf.    0.12286 (1) obj. 0.838694 iterations 3\n",
      "Cbc0038I Pass   5: suminf.    0.99469 (3) obj. 0.838694 iterations 13\n",
      "Cbc0038I Pass   6: suminf.    0.44940 (2) obj. 0.838694 iterations 4\n",
      "Cbc0038I Pass   7: suminf.    0.63690 (2) obj. 0.838694 iterations 2\n",
      "Cbc0038I Pass   8: suminf.    0.59966 (3) obj. 0.838694 iterations 9\n",
      "Cbc0038I Pass   9: suminf.    0.59966 (3) obj. 0.838694 iterations 0\n",
      "Cbc0038I Pass  10: suminf.    0.56916 (3) obj. 0.838694 iterations 6\n",
      "Cbc0038I Pass  11: suminf.    0.67724 (3) obj. 0.838694 iterations 1\n",
      "Cbc0038I Pass  12: suminf.    0.38091 (2) obj. 0.838694 iterations 5\n",
      "Cbc0038I Pass  13: suminf.    0.56903 (2) obj. 0.838694 iterations 4\n",
      "Cbc0038I Pass  14: suminf.    0.41737 (2) obj. 0.838694 iterations 1\n",
      "Cbc0038I Pass  15: suminf.    0.56916 (3) obj. 0.838694 iterations 7\n",
      "Cbc0038I Pass  16: suminf.    0.67724 (3) obj. 0.838694 iterations 1\n",
      "Cbc0038I Pass  17: suminf.    0.38091 (2) obj. 0.838694 iterations 5\n",
      "Cbc0038I Pass  18: suminf.    0.56903 (2) obj. 0.838694 iterations 4\n",
      "Cbc0038I Pass  19: suminf.    0.41737 (2) obj. 0.838694 iterations 1\n",
      "Cbc0038I Pass  20: suminf.    0.56916 (3) obj. 0.838694 iterations 7\n",
      "Cbc0038I Pass  21: suminf.    0.67724 (3) obj. 0.838694 iterations 1\n",
      "Cbc0038I Pass  22: suminf.    0.38091 (2) obj. 0.838694 iterations 5\n",
      "Cbc0038I Pass  23: suminf.    0.56903 (2) obj. 0.838694 iterations 4\n",
      "Cbc0038I Pass  24: suminf.    0.41737 (2) obj. 0.838694 iterations 1\n",
      "Cbc0038I Pass  25: suminf.    0.56916 (3) obj. 0.838694 iterations 7\n",
      "Cbc0038I Pass  26: suminf.    0.67724 (3) obj. 0.838694 iterations 1\n",
      "Cbc0038I Pass  27: suminf.    0.38091 (2) obj. 0.838694 iterations 5\n",
      "Cbc0038I Pass  28: suminf.    0.56903 (2) obj. 0.838694 iterations 4\n",
      "Cbc0038I Pass  29: suminf.    0.41737 (2) obj. 0.838694 iterations 1\n",
      "Cbc0038I Pass  30: suminf.    0.56916 (3) obj. 0.838694 iterations 7\n",
      "Cbc0038I Pass  31: suminf.    0.67724 (3) obj. 0.838694 iterations 1\n",
      "Cbc0038I No solution found this major pass\n",
      "Cbc0038I Before mini branch and bound, 30 integers at bound fixed and 0 continuous\n",
      "Cbc0038I Full problem 14 rows 57 columns, reduced to 14 rows 27 columns\n",
      "Cbc0038I Mini branch and bound improved solution from 0.907502 to 0.519853 (0.01 seconds)\n",
      "Cbc0038I Round again with cutoff of 0.459776\n",
      "Cbc0038I Pass  31: suminf.    0.97880 (4) obj. 0.459776 iterations 4\n",
      "Cbc0038I Pass  32: suminf.    1.00699 (5) obj. 0.459776 iterations 12\n",
      "Cbc0038I Pass  33: suminf.    0.88505 (3) obj. 0.459776 iterations 4\n",
      "Cbc0038I Pass  34: suminf.    0.48362 (3) obj. 0.459776 iterations 2\n",
      "Cbc0038I Pass  35: suminf.    1.31417 (4) obj. 0.459776 iterations 5\n",
      "Cbc0038I Pass  36: suminf.    0.96697 (3) obj. 0.459776 iterations 4\n",
      "Cbc0038I Pass  37: suminf.    0.95581 (3) obj. 0.459776 iterations 2\n",
      "Cbc0038I Pass  38: suminf.    0.57169 (3) obj. 0.459776 iterations 2\n",
      "Cbc0038I Pass  39: suminf.    0.65191 (3) obj. 0.459776 iterations 3\n",
      "Cbc0038I Pass  40: suminf.    1.10859 (4) obj. 0.459776 iterations 11\n",
      "Cbc0038I Pass  41: suminf.    0.69817 (4) obj. 0.459776 iterations 4\n",
      "Cbc0038I Pass  42: suminf.    1.02041 (4) obj. 0.459776 iterations 1\n",
      "Cbc0038I Pass  43: suminf.    0.94698 (4) obj. 0.459776 iterations 10\n",
      "Cbc0038I Pass  44: suminf.    0.44642 (2) obj. 0.459776 iterations 6\n",
      "Cbc0038I Pass  45: suminf.    0.48837 (2) obj. 0.459776 iterations 4\n",
      "Cbc0038I Pass  46: suminf.    1.34504 (5) obj. 0.459776 iterations 6\n",
      "Cbc0038I Pass  47: suminf.    0.94993 (4) obj. 0.459776 iterations 6\n",
      "Cbc0038I Pass  48: suminf.    0.71034 (4) obj. 0.459776 iterations 8\n",
      "Cbc0038I Pass  49: suminf.    0.37759 (3) obj. 0.459776 iterations 3\n",
      "Cbc0038I Pass  50: suminf.    1.06268 (4) obj. 0.459776 iterations 8\n",
      "Cbc0038I Pass  51: suminf.    1.13083 (4) obj. 0.459776 iterations 3\n",
      "Cbc0038I Pass  52: suminf.    1.08288 (4) obj. 0.459776 iterations 3\n",
      "Cbc0038I Pass  53: suminf.    1.06268 (4) obj. 0.459776 iterations 3\n",
      "Cbc0038I Pass  54: suminf.    1.11161 (4) obj. 0.459776 iterations 7\n",
      "Cbc0038I Pass  55: suminf.    0.93626 (5) obj. 0.459776 iterations 3\n",
      "Cbc0038I Pass  56: suminf.    1.11161 (4) obj. 0.459776 iterations 1\n",
      "Cbc0038I Pass  57: suminf.    1.43024 (5) obj. 0.459776 iterations 5\n",
      "Cbc0038I Pass  58: suminf.    1.14045 (4) obj. 0.459776 iterations 4\n",
      "Cbc0038I Pass  59: suminf.    1.23503 (4) obj. 0.459776 iterations 2\n",
      "Cbc0038I Pass  60: suminf.    1.23503 (4) obj. 0.459776 iterations 0\n",
      "Cbc0038I No solution found this major pass\n",
      "Cbc0038I Before mini branch and bound, 26 integers at bound fixed and 1 continuous\n",
      "Cbc0038I Full problem 14 rows 57 columns, reduced to 14 rows 30 columns\n",
      "Cbc0038I Mini branch and bound improved solution from 0.519853 to 0.514116 (0.02 seconds)\n",
      "Cbc0038I Round again with cutoff of 0.387695\n",
      "Cbc0038I Pass  60: suminf.    1.19866 (5) obj. 0.387695 iterations 1\n",
      "Cbc0038I Pass  61: suminf.    0.64825 (4) obj. 0.387695 iterations 10\n",
      "Cbc0038I Pass  62: suminf.    1.19473 (6) obj. 0.387695 iterations 7\n",
      "Cbc0038I Pass  63: suminf.    0.55980 (4) obj. 0.387695 iterations 10\n",
      "Cbc0038I Pass  64: suminf.    0.95946 (4) obj. 0.387695 iterations 6\n",
      "Cbc0038I Pass  65: suminf.    1.21738 (5) obj. 0.387695 iterations 4\n",
      "Cbc0038I Pass  66: suminf.    1.66090 (6) obj. 0.387695 iterations 3\n",
      "Cbc0038I Pass  67: suminf.    0.52421 (4) obj. 0.387695 iterations 9\n",
      "Cbc0038I Pass  68: suminf.    1.33063 (5) obj. 0.387695 iterations 5\n",
      "Cbc0038I Pass  69: suminf.    0.51194 (3) obj. 0.387695 iterations 2\n",
      "Cbc0038I Pass  70: suminf.    0.46504 (3) obj. 0.387695 iterations 1\n",
      "Cbc0038I Pass  71: suminf.    0.93293 (5) obj. 0.387695 iterations 9\n",
      "Cbc0038I Pass  72: suminf.    0.77401 (3) obj. 0.387695 iterations 3\n",
      "Cbc0038I Pass  73: suminf.    0.38784 (4) obj. 0.387695 iterations 4\n",
      "Cbc0038I Pass  74: suminf.    0.57301 (3) obj. 0.387695 iterations 4\n",
      "Cbc0038I Pass  75: suminf.    0.85273 (4) obj. 0.387695 iterations 9\n",
      "Cbc0038I Pass  76: suminf.    0.78081 (4) obj. 0.387695 iterations 5\n",
      "Cbc0038I Pass  77: suminf.    0.82463 (3) obj. 0.387695 iterations 2\n",
      "Cbc0038I Pass  78: suminf.    0.70893 (5) obj. 0.387695 iterations 4\n",
      "Cbc0038I Pass  79: suminf.    0.87584 (4) obj. 0.387695 iterations 1\n",
      "Cbc0038I Pass  80: suminf.    0.90036 (4) obj. 0.387695 iterations 9\n",
      "Cbc0038I Pass  81: suminf.    0.64825 (4) obj. 0.387695 iterations 4\n",
      "Cbc0038I Pass  82: suminf.    1.19473 (6) obj. 0.387695 iterations 7\n",
      "Cbc0038I Pass  83: suminf.    0.55980 (4) obj. 0.387695 iterations 10\n",
      "Cbc0038I Pass  84: suminf.    0.95946 (4) obj. 0.387695 iterations 6\n",
      "Cbc0038I Pass  85: suminf.    1.22801 (5) obj. 0.387695 iterations 7\n",
      "Cbc0038I Pass  86: suminf.    0.97895 (4) obj. 0.387695 iterations 3\n",
      "Cbc0038I Pass  87: suminf.    1.05591 (4) obj. 0.387695 iterations 1\n",
      "Cbc0038I Pass  88: suminf.    1.41863 (4) obj. 0.387695 iterations 4\n",
      "Cbc0038I Pass  89: suminf.    0.98498 (3) obj. 0.387695 iterations 2\n",
      "Cbc0038I No solution found this major pass\n",
      "Cbc0038I Before mini branch and bound, 24 integers at bound fixed and 1 continuous\n",
      "Cbc0038I Full problem 14 rows 57 columns, reduced to 14 rows 32 columns\n",
      "Cbc0038I Mini branch and bound did not improve solution (0.02 seconds)\n",
      "Cbc0038I After 0.02 seconds - Feasibility pump exiting with objective of 0.514116 - took 0.02 seconds\n",
      "Cbc0012I Integer solution of 0.51411611 found by feasibility pump after 0 iterations and 0 nodes (0.02 seconds)\n",
      "Cbc0038I Full problem 14 rows 57 columns, reduced to 14 rows 17 columns\n",
      "Cbc0031I 14 added rows had average density of 29.642857\n",
      "Cbc0013I At root node, 14 cuts changed objective from 0.21950722 to 0.31064497 in 16 passes\n",
      "Cbc0014I Cut generator 0 (Probing) - 0 row cuts average 0.0 elements, 10 column cuts (10 active)  in 0.001 seconds - new frequency is 1\n",
      "Cbc0014I Cut generator 1 (Gomory) - 0 row cuts average 0.0 elements, 0 column cuts (0 active)  in 0.001 seconds - new frequency is -100\n",
      "Cbc0014I Cut generator 2 (Knapsack) - 0 row cuts average 0.0 elements, 0 column cuts (0 active)  in 0.003 seconds - new frequency is -100\n",
      "Cbc0014I Cut generator 3 (Clique) - 0 row cuts average 0.0 elements, 0 column cuts (0 active)  in 0.000 seconds - new frequency is -100\n",
      "Cbc0014I Cut generator 4 (MixedIntegerRounding2) - 98 row cuts average 30.4 elements, 0 column cuts (0 active)  in 0.003 seconds - new frequency is 1\n",
      "Cbc0014I Cut generator 5 (FlowCover) - 0 row cuts average 0.0 elements, 0 column cuts (0 active)  in 0.002 seconds - new frequency is -100\n",
      "Cbc0014I Cut generator 6 (TwoMirCuts) - 137 row cuts average 26.9 elements, 0 column cuts (0 active)  in 0.003 seconds - new frequency is 1\n",
      "Cbc0010I After 0 nodes, 1 on tree, 0.51411611 best solution, best possible 0.31064497 (0.05 seconds)\n",
      "Cbc0001I Search completed - best objective 0.5141161103044595, took 461 iterations and 6 nodes (0.07 seconds)\n",
      "Cbc0032I Strong branching done 56 times (492 iterations), fathomed 1 nodes and fixed 3 variables\n",
      "Cbc0035I Maximum depth 2, 31 variables fixed on reduced cost\n",
      "Cuts at root node changed objective from 0.219507 to 0.310645\n",
      "Probing was tried 43 times and created 32 cuts of which 0 were active after adding rounds of cuts (0.002 seconds)\n",
      "Gomory was tried 16 times and created 0 cuts of which 0 were active after adding rounds of cuts (0.001 seconds)\n",
      "Knapsack was tried 16 times and created 0 cuts of which 0 were active after adding rounds of cuts (0.003 seconds)\n",
      "Clique was tried 16 times and created 0 cuts of which 0 were active after adding rounds of cuts (0.000 seconds)\n",
      "MixedIntegerRounding2 was tried 43 times and created 273 cuts of which 0 were active after adding rounds of cuts (0.007 seconds)\n",
      "FlowCover was tried 16 times and created 0 cuts of which 0 were active after adding rounds of cuts (0.002 seconds)\n",
      "TwoMirCuts was tried 43 times and created 307 cuts of which 0 were active after adding rounds of cuts (0.007 seconds)\n",
      "ZeroHalf was tried 1 times and created 0 cuts of which 0 were active after adding rounds of cuts (0.000 seconds)\n",
      "\n",
      "Result - Optimal solution found\n",
      "\n",
      "Objective value:                0.51411611\n",
      "Enumerated nodes:               6\n",
      "Total iterations:               461\n",
      "Time (CPU seconds):             0.07\n",
      "Time (Wallclock seconds):       0.07\n",
      "\n",
      "Option for printingOptions changed from normal to all\n",
      "Total time (CPU seconds):       0.07   (Wallclock seconds):       0.07\n",
      "\n"
     ]
    }
   ],
   "source": [
    "sol = problem.solve()"
   ]
  },
  {
   "cell_type": "code",
   "execution_count": 14,
   "id": "e6e2a986",
   "metadata": {},
   "outputs": [
    {
     "data": {
      "text/plain": [
       "'Optimal'"
      ]
     },
     "execution_count": 14,
     "metadata": {},
     "output_type": "execute_result"
    }
   ],
   "source": [
    "pulp.LpStatus[sol]"
   ]
  },
  {
   "cell_type": "code",
   "execution_count": 15,
   "id": "5966c470",
   "metadata": {},
   "outputs": [],
   "source": [
    "ret_dic = {}\n",
    "total_price = 0\n",
    "for nut in nutrition_list:\n",
    "    ret_dic[nut] = 0.\n",
    "for i in xs:\n",
    "    if xs[i].value():\n",
    "        total_price += df['price'][i]\n",
    "        for nut in nutrition_list:\n",
    "            ret_dic[nut] += df[nut][i]"
   ]
  },
  {
   "cell_type": "code",
   "execution_count": 16,
   "id": "a9bd1ccf-e117-4c36-8b42-d12f994d73b7",
   "metadata": {},
   "outputs": [
    {
     "name": "stdout",
     "output_type": "stream",
     "text": [
      "energy -118.33333333333337\n",
      "protein 1.4333333333333336\n",
      "fat -0.3000000000000007\n",
      "carbohydrates 19.400000000000006\n",
      "salt -0.09999999999999964\n",
      "calcium 17.333333333333314\n",
      "vegetable 4.333333333333329\n"
     ]
    }
   ],
   "source": [
    "for nut in nutrition_list:\n",
    "    print(nut, ret_dic[nut] - r_dic[nut])"
   ]
  },
  {
   "cell_type": "code",
   "execution_count": 17,
   "id": "bd46bc6b-2962-4883-9016-66985beefdd8",
   "metadata": {},
   "outputs": [
    {
     "name": "stdout",
     "output_type": "stream",
     "text": [
      "0.13396226\n",
      "0.066153846\n",
      "0.015\n",
      "0.194\n",
      "0.04\n",
      "0.065\n",
      "0.0\n"
     ]
    }
   ],
   "source": [
    "for i in zs:\n",
    "    print(zs[i].value())"
   ]
  },
  {
   "cell_type": "code",
   "execution_count": 18,
   "id": "c9792fee",
   "metadata": {},
   "outputs": [
    {
     "name": "stdout",
     "output_type": "stream",
     "text": [
      "目的関数 : 0.514116106\n",
      "価格 : 555.0　円\n",
      "ししゃもフライ 176.0\n",
      "ちくわの磯部揚げ 110.0\n",
      "ブロッコリーピーナッツ和え 88.0\n",
      "スライスオクラ 66.0\n",
      "ライス 115.0\n"
     ]
    }
   ],
   "source": [
    "print(f\"目的関数 : {problem.objective.value()}\")\n",
    "print(f\"価格 : {total_price}　円\")\n",
    "for i in range(len(S)):\n",
    "    if xs[i].value():\n",
    "        print(df['name'][i], df['price'][i])"
   ]
  },
  {
   "cell_type": "code",
   "execution_count": 19,
   "id": "cea2d69b-69f8-44b6-9134-00692db194d5",
   "metadata": {},
   "outputs": [
    {
     "data": {
      "text/html": [
       "<div>\n",
       "<style scoped>\n",
       "    .dataframe tbody tr th:only-of-type {\n",
       "        vertical-align: middle;\n",
       "    }\n",
       "\n",
       "    .dataframe tbody tr th {\n",
       "        vertical-align: top;\n",
       "    }\n",
       "\n",
       "    .dataframe thead th {\n",
       "        text-align: right;\n",
       "    }\n",
       "</style>\n",
       "<table border=\"1\" class=\"dataframe\">\n",
       "  <thead>\n",
       "    <tr style=\"text-align: right;\">\n",
       "      <th></th>\n",
       "      <th>name</th>\n",
       "      <th>price</th>\n",
       "      <th>energy</th>\n",
       "      <th>protein</th>\n",
       "      <th>fat</th>\n",
       "      <th>carbohydrates</th>\n",
       "      <th>salt</th>\n",
       "      <th>calcium</th>\n",
       "      <th>vegetable</th>\n",
       "      <th>img_url</th>\n",
       "    </tr>\n",
       "  </thead>\n",
       "  <tbody>\n",
       "    <tr>\n",
       "      <th>6</th>\n",
       "      <td>ししゃもフライ</td>\n",
       "      <td>176.0</td>\n",
       "      <td>135.0</td>\n",
       "      <td>6.2</td>\n",
       "      <td>8.5</td>\n",
       "      <td>8.5</td>\n",
       "      <td>1.1</td>\n",
       "      <td>176.0</td>\n",
       "      <td>0.0</td>\n",
       "      <td>https://west2-univ.jp/menu_img/png_sp/814295.png</td>\n",
       "    </tr>\n",
       "    <tr>\n",
       "      <th>9</th>\n",
       "      <td>ちくわの磯部揚げ</td>\n",
       "      <td>110.0</td>\n",
       "      <td>162.0</td>\n",
       "      <td>4.9</td>\n",
       "      <td>9.8</td>\n",
       "      <td>13.5</td>\n",
       "      <td>0.8</td>\n",
       "      <td>40.0</td>\n",
       "      <td>0.0</td>\n",
       "      <td>https://west2-univ.jp/menu_img/png_sp/814465.png</td>\n",
       "    </tr>\n",
       "    <tr>\n",
       "      <th>14</th>\n",
       "      <td>ブロッコリーピーナッツ和え</td>\n",
       "      <td>88.0</td>\n",
       "      <td>45.0</td>\n",
       "      <td>3.8</td>\n",
       "      <td>1.4</td>\n",
       "      <td>4.6</td>\n",
       "      <td>0.5</td>\n",
       "      <td>23.0</td>\n",
       "      <td>71.0</td>\n",
       "      <td>https://west2-univ.jp/menu_img/png_sp/814413.png</td>\n",
       "    </tr>\n",
       "    <tr>\n",
       "      <th>18</th>\n",
       "      <td>スライスオクラ</td>\n",
       "      <td>66.0</td>\n",
       "      <td>15.0</td>\n",
       "      <td>1.0</td>\n",
       "      <td>0.0</td>\n",
       "      <td>4.0</td>\n",
       "      <td>0.0</td>\n",
       "      <td>45.0</td>\n",
       "      <td>50.0</td>\n",
       "      <td>https://west2-univ.jp/menu_img/png_sp/814454.png</td>\n",
       "    </tr>\n",
       "    <tr>\n",
       "      <th>35</th>\n",
       "      <td>ライス</td>\n",
       "      <td>115.0</td>\n",
       "      <td>408.0</td>\n",
       "      <td>7.2</td>\n",
       "      <td>0.0</td>\n",
       "      <td>88.8</td>\n",
       "      <td>0.0</td>\n",
       "      <td>0.0</td>\n",
       "      <td>0.0</td>\n",
       "      <td>https://west2-univ.jp/menu_img/png_sp/814702.png</td>\n",
       "    </tr>\n",
       "  </tbody>\n",
       "</table>\n",
       "</div>"
      ],
      "text/plain": [
       "             name  price  energy  protein  fat  carbohydrates  salt  calcium  \\\n",
       "6         ししゃもフライ  176.0   135.0      6.2  8.5            8.5   1.1    176.0   \n",
       "9        ちくわの磯部揚げ  110.0   162.0      4.9  9.8           13.5   0.8     40.0   \n",
       "14  ブロッコリーピーナッツ和え   88.0    45.0      3.8  1.4            4.6   0.5     23.0   \n",
       "18        スライスオクラ   66.0    15.0      1.0  0.0            4.0   0.0     45.0   \n",
       "35            ライス  115.0   408.0      7.2  0.0           88.8   0.0      0.0   \n",
       "\n",
       "    vegetable                                           img_url  \n",
       "6         0.0  https://west2-univ.jp/menu_img/png_sp/814295.png  \n",
       "9         0.0  https://west2-univ.jp/menu_img/png_sp/814465.png  \n",
       "14       71.0  https://west2-univ.jp/menu_img/png_sp/814413.png  \n",
       "18       50.0  https://west2-univ.jp/menu_img/png_sp/814454.png  \n",
       "35        0.0  https://west2-univ.jp/menu_img/png_sp/814702.png  "
      ]
     },
     "execution_count": 19,
     "metadata": {},
     "output_type": "execute_result"
    }
   ],
   "source": [
    "df.iloc[[i for i,v in enumerate(xs.values()) if v.value() == 1]]"
   ]
  }
 ],
 "metadata": {
  "kernelspec": {
   "display_name": "Python 3 (ipykernel)",
   "language": "python",
   "name": "python3"
  },
  "language_info": {
   "codemirror_mode": {
    "name": "ipython",
    "version": 3
   },
   "file_extension": ".py",
   "mimetype": "text/x-python",
   "name": "python",
   "nbconvert_exporter": "python",
   "pygments_lexer": "ipython3",
   "version": "3.10.8"
  }
 },
 "nbformat": 4,
 "nbformat_minor": 5
}
