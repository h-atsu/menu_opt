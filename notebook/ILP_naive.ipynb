{
 "cells": [
  {
   "cell_type": "code",
   "execution_count": 1,
   "id": "319e55db",
   "metadata": {},
   "outputs": [],
   "source": [
    "import pandas as pd"
   ]
  },
  {
   "cell_type": "code",
   "execution_count": 2,
   "id": "c9ab59c1",
   "metadata": {},
   "outputs": [],
   "source": [
    "df = pd.read_csv('../menu.csv')"
   ]
  },
  {
   "cell_type": "code",
   "execution_count": 3,
   "id": "26677a59",
   "metadata": {},
   "outputs": [
    {
     "data": {
      "text/plain": [
       "50"
      ]
     },
     "execution_count": 3,
     "metadata": {},
     "output_type": "execute_result"
    }
   ],
   "source": [
    "len(df)"
   ]
  },
  {
   "cell_type": "code",
   "execution_count": 4,
   "id": "dd3f39bf",
   "metadata": {},
   "outputs": [
    {
     "data": {
      "text/html": [
       "<div>\n",
       "<style scoped>\n",
       "    .dataframe tbody tr th:only-of-type {\n",
       "        vertical-align: middle;\n",
       "    }\n",
       "\n",
       "    .dataframe tbody tr th {\n",
       "        vertical-align: top;\n",
       "    }\n",
       "\n",
       "    .dataframe thead th {\n",
       "        text-align: right;\n",
       "    }\n",
       "</style>\n",
       "<table border=\"1\" class=\"dataframe\">\n",
       "  <thead>\n",
       "    <tr style=\"text-align: right;\">\n",
       "      <th></th>\n",
       "      <th>name</th>\n",
       "      <th>price</th>\n",
       "      <th>energy</th>\n",
       "      <th>protein</th>\n",
       "      <th>fat</th>\n",
       "      <th>carbohydrates</th>\n",
       "      <th>salt</th>\n",
       "      <th>calcium</th>\n",
       "      <th>vegetable</th>\n",
       "      <th>img_url</th>\n",
       "    </tr>\n",
       "  </thead>\n",
       "  <tbody>\n",
       "    <tr>\n",
       "      <th>0</th>\n",
       "      <td>ローストンカツおろしソース</td>\n",
       "      <td>264.0</td>\n",
       "      <td>406.0</td>\n",
       "      <td>15.3</td>\n",
       "      <td>26.0</td>\n",
       "      <td>25.3</td>\n",
       "      <td>2.4</td>\n",
       "      <td>16.0</td>\n",
       "      <td>16.0</td>\n",
       "      <td>https://west2-univ.jp/menu_img/png_sp/824022.png</td>\n",
       "    </tr>\n",
       "    <tr>\n",
       "      <th>1</th>\n",
       "      <td>チキンカツ柚子胡椒マヨ</td>\n",
       "      <td>220.0</td>\n",
       "      <td>399.0</td>\n",
       "      <td>16.4</td>\n",
       "      <td>27.9</td>\n",
       "      <td>18.1</td>\n",
       "      <td>1.2</td>\n",
       "      <td>11.0</td>\n",
       "      <td>0.0</td>\n",
       "      <td>https://west2-univ.jp/menu_img/png_sp/824082.png</td>\n",
       "    </tr>\n",
       "    <tr>\n",
       "      <th>2</th>\n",
       "      <td>ハンバーグトマトソース</td>\n",
       "      <td>220.0</td>\n",
       "      <td>221.0</td>\n",
       "      <td>15.0</td>\n",
       "      <td>11.2</td>\n",
       "      <td>13.8</td>\n",
       "      <td>1.6</td>\n",
       "      <td>38.0</td>\n",
       "      <td>37.0</td>\n",
       "      <td>https://west2-univ.jp/menu_img/png_sp/824037.png</td>\n",
       "    </tr>\n",
       "    <tr>\n",
       "      <th>3</th>\n",
       "      <td>豚ブロッコリー和風炒め</td>\n",
       "      <td>264.0</td>\n",
       "      <td>280.0</td>\n",
       "      <td>18.1</td>\n",
       "      <td>18.6</td>\n",
       "      <td>9.6</td>\n",
       "      <td>1.7</td>\n",
       "      <td>85.0</td>\n",
       "      <td>200.0</td>\n",
       "      <td>https://west2-univ.jp/menu_img/png_sp/814202.png</td>\n",
       "    </tr>\n",
       "    <tr>\n",
       "      <th>4</th>\n",
       "      <td>ビーフシチュー</td>\n",
       "      <td>264.0</td>\n",
       "      <td>316.0</td>\n",
       "      <td>9.2</td>\n",
       "      <td>16.2</td>\n",
       "      <td>30.6</td>\n",
       "      <td>1.7</td>\n",
       "      <td>22.0</td>\n",
       "      <td>80.0</td>\n",
       "      <td>https://west2-univ.jp/menu_img/png_sp/814126.png</td>\n",
       "    </tr>\n",
       "    <tr>\n",
       "      <th>5</th>\n",
       "      <td>白身魚フライ</td>\n",
       "      <td>220.0</td>\n",
       "      <td>516.0</td>\n",
       "      <td>11.1</td>\n",
       "      <td>39.3</td>\n",
       "      <td>25.9</td>\n",
       "      <td>1.3</td>\n",
       "      <td>23.0</td>\n",
       "      <td>0.0</td>\n",
       "      <td>https://west2-univ.jp/menu_img/png_sp/824170.png</td>\n",
       "    </tr>\n",
       "    <tr>\n",
       "      <th>6</th>\n",
       "      <td>ししゃもフライ</td>\n",
       "      <td>176.0</td>\n",
       "      <td>135.0</td>\n",
       "      <td>6.2</td>\n",
       "      <td>8.5</td>\n",
       "      <td>8.5</td>\n",
       "      <td>1.1</td>\n",
       "      <td>176.0</td>\n",
       "      <td>0.0</td>\n",
       "      <td>https://west2-univ.jp/menu_img/png_sp/814295.png</td>\n",
       "    </tr>\n",
       "    <tr>\n",
       "      <th>7</th>\n",
       "      <td>鯖味噌煮</td>\n",
       "      <td>176.0</td>\n",
       "      <td>180.0</td>\n",
       "      <td>11.9</td>\n",
       "      <td>11.1</td>\n",
       "      <td>7.9</td>\n",
       "      <td>0.8</td>\n",
       "      <td>41.0</td>\n",
       "      <td>0.0</td>\n",
       "      <td>https://west2-univ.jp/menu_img/png_sp/814297.png</td>\n",
       "    </tr>\n",
       "    <tr>\n",
       "      <th>8</th>\n",
       "      <td>ビタミンＣサラダ</td>\n",
       "      <td>110.0</td>\n",
       "      <td>120.0</td>\n",
       "      <td>4.8</td>\n",
       "      <td>5.2</td>\n",
       "      <td>14.4</td>\n",
       "      <td>0.5</td>\n",
       "      <td>30.0</td>\n",
       "      <td>113.0</td>\n",
       "      <td>https://west2-univ.jp/menu_img/png_sp/814443.png</td>\n",
       "    </tr>\n",
       "    <tr>\n",
       "      <th>9</th>\n",
       "      <td>ちくわの磯部揚げ</td>\n",
       "      <td>110.0</td>\n",
       "      <td>162.0</td>\n",
       "      <td>4.9</td>\n",
       "      <td>9.8</td>\n",
       "      <td>13.5</td>\n",
       "      <td>0.8</td>\n",
       "      <td>40.0</td>\n",
       "      <td>0.0</td>\n",
       "      <td>https://west2-univ.jp/menu_img/png_sp/814465.png</td>\n",
       "    </tr>\n",
       "  </tbody>\n",
       "</table>\n",
       "</div>"
      ],
      "text/plain": [
       "            name  price  energy  protein   fat  carbohydrates  salt  calcium  \\\n",
       "0  ローストンカツおろしソース  264.0   406.0     15.3  26.0           25.3   2.4     16.0   \n",
       "1    チキンカツ柚子胡椒マヨ  220.0   399.0     16.4  27.9           18.1   1.2     11.0   \n",
       "2    ハンバーグトマトソース  220.0   221.0     15.0  11.2           13.8   1.6     38.0   \n",
       "3    豚ブロッコリー和風炒め  264.0   280.0     18.1  18.6            9.6   1.7     85.0   \n",
       "4        ビーフシチュー  264.0   316.0      9.2  16.2           30.6   1.7     22.0   \n",
       "5         白身魚フライ  220.0   516.0     11.1  39.3           25.9   1.3     23.0   \n",
       "6        ししゃもフライ  176.0   135.0      6.2   8.5            8.5   1.1    176.0   \n",
       "7           鯖味噌煮  176.0   180.0     11.9  11.1            7.9   0.8     41.0   \n",
       "8       ビタミンＣサラダ  110.0   120.0      4.8   5.2           14.4   0.5     30.0   \n",
       "9       ちくわの磯部揚げ  110.0   162.0      4.9   9.8           13.5   0.8     40.0   \n",
       "\n",
       "   vegetable                                           img_url  \n",
       "0       16.0  https://west2-univ.jp/menu_img/png_sp/824022.png  \n",
       "1        0.0  https://west2-univ.jp/menu_img/png_sp/824082.png  \n",
       "2       37.0  https://west2-univ.jp/menu_img/png_sp/824037.png  \n",
       "3      200.0  https://west2-univ.jp/menu_img/png_sp/814202.png  \n",
       "4       80.0  https://west2-univ.jp/menu_img/png_sp/814126.png  \n",
       "5        0.0  https://west2-univ.jp/menu_img/png_sp/824170.png  \n",
       "6        0.0  https://west2-univ.jp/menu_img/png_sp/814295.png  \n",
       "7        0.0  https://west2-univ.jp/menu_img/png_sp/814297.png  \n",
       "8      113.0  https://west2-univ.jp/menu_img/png_sp/814443.png  \n",
       "9        0.0  https://west2-univ.jp/menu_img/png_sp/814465.png  "
      ]
     },
     "execution_count": 4,
     "metadata": {},
     "output_type": "execute_result"
    }
   ],
   "source": [
    "df.head(10)"
   ]
  },
  {
   "cell_type": "code",
   "execution_count": 5,
   "id": "cae0ed6a",
   "metadata": {},
   "outputs": [],
   "source": [
    "r_energy = 2650 / 3 \n",
    "r_protein = 65 / 3 \n",
    "r_fat = 60 / 3\n",
    "r_carbohydrates = 300 / 3\n",
    "r_salt = 7.5 / 3 # 以下\n",
    "r_calcium = 800 / 3\n",
    "r_vegetable = 350 / 3 # 以上"
   ]
  },
  {
   "cell_type": "markdown",
   "id": "71df8a51",
   "metadata": {},
   "source": [
    "決定変数  \n",
    "$x_{s}$ : メニューsを選ぶかどうか"
   ]
  },
  {
   "cell_type": "code",
   "execution_count": 6,
   "id": "50069e2e",
   "metadata": {},
   "outputs": [],
   "source": [
    "import pulp "
   ]
  },
  {
   "cell_type": "code",
   "execution_count": 7,
   "id": "aa769809",
   "metadata": {},
   "outputs": [],
   "source": [
    "S = list(range(len(df)))"
   ]
  },
  {
   "cell_type": "code",
   "execution_count": 8,
   "id": "92f03068",
   "metadata": {},
   "outputs": [],
   "source": [
    "# 緩和パラメータ\n",
    "relax = 0.2\n",
    "\n",
    "# 目標金額\n",
    "target_cost = 500"
   ]
  },
  {
   "cell_type": "code",
   "execution_count": 9,
   "id": "532ad2e7",
   "metadata": {},
   "outputs": [
    {
     "name": "stderr",
     "output_type": "stream",
     "text": [
      "/usr/local/lib/python3.10/site-packages/pulp/pulp.py:1352: UserWarning: Spaces are not permitted in the name. Converted to '_'\n",
      "  warnings.warn(\"Spaces are not permitted in the name. Converted to '_'\")\n"
     ]
    }
   ],
   "source": [
    "# 問題設定\n",
    "problem = pulp.LpProblem('Problem Name', pulp.LpMinimize) \n",
    "xs = pulp.LpVariable.dicts('x', S, 0, 1, 'Integer')\n",
    "\n",
    "# 目的関数　コスト最小化\n",
    "problem += pulp.lpSum(df['price'][i]*xs[i] for i in range(len(S)))\n",
    "\n",
    "# 制約式\n",
    "problem += pulp.lpSum(df['energy'][i]*xs[i] for i in range(len(S))) <= (1+relax) * r_energy\n",
    "\n",
    "problem += pulp.lpSum(df['protein'][i]*xs[i] for i in range(len(S))) <= (1+relax) * r_protein\n",
    "problem += pulp.lpSum(df['protein'][i]*xs[i] for i in range(len(S))) >= (1-relax) * r_protein\n",
    "\n",
    "problem += pulp.lpSum(df['fat'][i]*xs[i] for i in range(len(S))) <= (1+relax) * r_fat\n",
    "problem += pulp.lpSum(df['fat'][i]*xs[i] for i in range(len(S))) >= (1-relax) * r_fat\n",
    "\n",
    "problem += pulp.lpSum(df['carbohydrates'][i]*xs[i] for i in range(len(S))) <= (1+relax) * r_carbohydrates\n",
    "problem += pulp.lpSum(df['carbohydrates'][i]*xs[i] for i in range(len(S))) >= (1-relax) * r_carbohydrates\n",
    "\n",
    "problem += pulp.lpSum(df['salt'][i]*xs[i] for i in range(len(S))) <= (1+relax) * r_salt\n",
    "\n",
    "problem += pulp.lpSum(df['calcium'][i]*xs[i] for i in range(len(S))) <= (1+relax) * r_calcium\n",
    "problem += pulp.lpSum(df['calcium'][i]*xs[i] for i in range(len(S))) >= (1-relax) * r_calcium\n",
    "\n",
    "problem += pulp.lpSum(df['vegetable'][i]*xs[i] for i in range(len(S))) <= (1+relax) * r_vegetable\n",
    "problem += pulp.lpSum(df['vegetable'][i]*xs[i] for i in range(len(S))) >= (1-relax) * r_vegetable"
   ]
  },
  {
   "cell_type": "code",
   "execution_count": 10,
   "id": "55d57512",
   "metadata": {},
   "outputs": [
    {
     "name": "stdout",
     "output_type": "stream",
     "text": [
      "Welcome to the CBC MILP Solver \n",
      "Version: 2.10.3 \n",
      "Build Date: Dec 15 2019 \n",
      "\n",
      "command line - /usr/local/lib/python3.10/site-packages/pulp/solverdir/cbc/osx/64/cbc /var/folders/kc/5vks2chj5jg_zq9fvglb01jr0000gp/T/7ae05326f1674cfd858dafccf590f1e7-pulp.mps timeMode elapsed branch printingOptions all solution /var/folders/kc/5vks2chj5jg_zq9fvglb01jr0000gp/T/7ae05326f1674cfd858dafccf590f1e7-pulp.sol (default strategy 1)\n",
      "At line 2 NAME          MODEL\n",
      "At line 3 ROWS\n",
      "At line 17 COLUMNS\n",
      "At line 736 RHS\n",
      "At line 749 BOUNDS\n",
      "At line 800 ENDATA\n",
      "Problem MODEL has 12 rows, 50 columns and 568 elements\n",
      "Coin0008I MODEL read with 0 errors\n",
      "Option for timeMode changed from cpu to elapsed\n",
      "Continuous objective value is 351.948 - 0.00 seconds\n",
      "Cgl0003I 2 fixed, 0 tightened bounds, 0 strengthened rows, 0 substitutions\n",
      "Cgl0004I processed model has 7 rows, 22 columns (22 integer (22 of which binary)) and 138 elements\n",
      "Cutoff increment increased from 1e-05 to 0.9999\n",
      "Cbc0038I Initial state - 4 integers unsatisfied sum - 1.21114\n",
      "Cbc0038I Solution found of 478\n",
      "Cbc0038I Before mini branch and bound, 18 integers at bound fixed and 0 continuous\n",
      "Cbc0038I Full problem 7 rows 22 columns, reduced to 0 rows 0 columns\n",
      "Cbc0038I Mini branch and bound did not improve solution (0.00 seconds)\n",
      "Cbc0038I Round again with cutoff of 464.508\n",
      "Cbc0038I Reduced cost fixing fixed 2 variables on major pass 2\n",
      "Cbc0038I Pass   1: suminf.    0.07666 (1) obj. 464.508 iterations 6\n",
      "Cbc0038I Pass   2: suminf.    0.47593 (2) obj. 409.22 iterations 3\n",
      "Cbc0038I Pass   3: suminf.    0.42033 (4) obj. 367.49 iterations 10\n",
      "Cbc0038I Pass   4: suminf.    0.42033 (4) obj. 367.49 iterations 0\n",
      "Cbc0038I Pass   5: suminf.    0.81221 (4) obj. 438.15 iterations 5\n",
      "Cbc0038I Pass   6: suminf.    0.55193 (3) obj. 455.524 iterations 1\n",
      "Cbc0038I Pass   7: suminf.    0.24877 (2) obj. 445.975 iterations 5\n",
      "Cbc0038I Pass   8: suminf.    0.24877 (2) obj. 445.975 iterations 0\n",
      "Cbc0038I Pass   9: suminf.    1.00877 (3) obj. 454.51 iterations 3\n",
      "Cbc0038I Pass  10: suminf.    1.49043 (6) obj. 426.635 iterations 5\n",
      "Cbc0038I Pass  11: suminf.    1.06015 (6) obj. 428.783 iterations 1\n",
      "Cbc0038I Pass  12: suminf.    0.64467 (3) obj. 398.398 iterations 11\n",
      "Cbc0038I Solution found of 445\n",
      "Cbc0038I Rounding solution of 434 is better than previous of 445\n",
      "\n",
      "Cbc0038I Before mini branch and bound, 11 integers at bound fixed and 0 continuous\n",
      "Cbc0038I Full problem 7 rows 22 columns, reduced to 7 rows 8 columns\n",
      "Cbc0038I Mini branch and bound did not improve solution (0.00 seconds)\n",
      "Cbc0038I Round again with cutoff of 416.815\n",
      "Cbc0038I Reduced cost fixing fixed 5 variables on major pass 3\n",
      "Cbc0038I Pass  13: suminf.    0.34764 (1) obj. 416.815 iterations 0\n",
      "Cbc0038I Pass  14: suminf.    0.48520 (2) obj. 405.486 iterations 2\n",
      "Cbc0038I Pass  15: suminf.    0.48520 (2) obj. 405.486 iterations 0\n",
      "Cbc0038I Pass  16: suminf.    0.92777 (4) obj. 416.815 iterations 6\n",
      "Cbc0038I Pass  17: suminf.    0.59800 (3) obj. 416.815 iterations 1\n",
      "Cbc0038I Pass  18: suminf.    0.90196 (3) obj. 416.815 iterations 1\n",
      "Cbc0038I Pass  19: suminf.    0.90196 (3) obj. 416.815 iterations 0\n",
      "Cbc0038I Pass  20: suminf.    0.85645 (4) obj. 416.815 iterations 2\n",
      "Cbc0038I Pass  21: suminf.    1.34646 (5) obj. 416.815 iterations 4\n",
      "Cbc0038I Pass  22: suminf.    0.76902 (4) obj. 416.815 iterations 3\n",
      "Cbc0038I Pass  23: suminf.    1.03989 (4) obj. 416.815 iterations 1\n",
      "Cbc0038I Pass  24: suminf.    1.03049 (4) obj. 416.815 iterations 1\n",
      "Cbc0038I Pass  25: suminf.    0.85645 (4) obj. 416.815 iterations 3\n",
      "Cbc0038I Pass  26: suminf.    0.59800 (3) obj. 416.815 iterations 2\n",
      "Cbc0038I Pass  27: suminf.    0.90196 (3) obj. 416.815 iterations 1\n",
      "Cbc0038I Pass  28: suminf.    0.90196 (3) obj. 416.815 iterations 0\n",
      "Cbc0038I Pass  29: suminf.    0.85645 (4) obj. 416.815 iterations 2\n",
      "Cbc0038I Pass  30: suminf.    0.89816 (3) obj. 416.815 iterations 3\n",
      "Cbc0038I Pass  31: suminf.    0.73151 (3) obj. 416.815 iterations 2\n",
      "Cbc0038I Pass  32: suminf.    1.65364 (4) obj. 379.727 iterations 4\n",
      "Cbc0038I Pass  33: suminf.    1.33113 (4) obj. 416.815 iterations 1\n",
      "Cbc0038I Pass  34: suminf.    1.32483 (4) obj. 416.815 iterations 7\n",
      "Cbc0038I Pass  35: suminf.    1.32483 (4) obj. 416.815 iterations 0\n",
      "Cbc0038I Pass  36: suminf.    1.25465 (4) obj. 416.815 iterations 2\n",
      "Cbc0038I Pass  37: suminf.    1.22812 (4) obj. 416.815 iterations 1\n",
      "Cbc0038I Pass  38: suminf.    1.46197 (4) obj. 416.815 iterations 2\n",
      "Cbc0038I Pass  39: suminf.    0.87521 (4) obj. 416.815 iterations 1\n",
      "Cbc0038I Pass  40: suminf.    1.25465 (4) obj. 416.815 iterations 1\n",
      "Cbc0038I Pass  41: suminf.    1.42806 (4) obj. 416.815 iterations 3\n",
      "Cbc0038I Pass  42: suminf.    0.90080 (5) obj. 416.815 iterations 5\n",
      "Cbc0038I No solution found this major pass\n",
      "Cbc0038I Before mini branch and bound, 7 integers at bound fixed and 0 continuous\n",
      "Cbc0038I Full problem 7 rows 22 columns, reduced to 7 rows 15 columns\n",
      "Cbc0038I Mini branch and bound did not improve solution (0.01 seconds)\n",
      "Cbc0038I After 0.01 seconds - Feasibility pump exiting with objective of 434 - took 0.00 seconds\n",
      "Cbc0012I Integer solution of 434 found by feasibility pump after 0 iterations and 0 nodes (0.01 seconds)\n",
      "Cbc0031I 9 added rows had average density of 16.666667\n",
      "Cbc0013I At root node, 9 cuts changed objective from 352.07642 to 414.92158 in 100 passes\n",
      "Cbc0014I Cut generator 0 (Probing) - 71 row cuts average 5.1 elements, 0 column cuts (0 active)  in 0.004 seconds - new frequency is -100\n",
      "Cbc0014I Cut generator 1 (Gomory) - 537 row cuts average 17.0 elements, 0 column cuts (0 active)  in 0.006 seconds - new frequency is 1\n",
      "Cbc0014I Cut generator 2 (Knapsack) - 267 row cuts average 9.8 elements, 0 column cuts (0 active)  in 0.041 seconds - new frequency is 1\n",
      "Cbc0014I Cut generator 3 (Clique) - 0 row cuts average 0.0 elements, 0 column cuts (0 active)  in 0.001 seconds - new frequency is -100\n",
      "Cbc0014I Cut generator 4 (MixedIntegerRounding2) - 603 row cuts average 16.7 elements, 0 column cuts (0 active)  in 0.010 seconds - new frequency is 1\n",
      "Cbc0014I Cut generator 5 (FlowCover) - 0 row cuts average 0.0 elements, 0 column cuts (0 active)  in 0.000 seconds - new frequency is -100\n",
      "Cbc0014I Cut generator 6 (TwoMirCuts) - 125 row cuts average 13.2 elements, 0 column cuts (0 active)  in 0.003 seconds - new frequency is 1\n",
      "Cbc0010I After 0 nodes, 1 on tree, 434 best solution, best possible 414.9218 (0.11 seconds)\n",
      "Cbc0001I Search completed - best objective 434, took 1523 iterations and 2 nodes (0.11 seconds)\n",
      "Cbc0032I Strong branching done 20 times (152 iterations), fathomed 0 nodes and fixed 1 variables\n",
      "Cbc0035I Maximum depth 0, 18 variables fixed on reduced cost\n",
      "Cuts at root node changed objective from 352.076 to 414.922\n",
      "Probing was tried 100 times and created 71 cuts of which 0 were active after adding rounds of cuts (0.004 seconds)\n",
      "Gomory was tried 107 times and created 553 cuts of which 0 were active after adding rounds of cuts (0.006 seconds)\n",
      "Knapsack was tried 107 times and created 284 cuts of which 0 were active after adding rounds of cuts (0.042 seconds)\n",
      "Clique was tried 100 times and created 0 cuts of which 0 were active after adding rounds of cuts (0.001 seconds)\n",
      "MixedIntegerRounding2 was tried 107 times and created 639 cuts of which 0 were active after adding rounds of cuts (0.010 seconds)\n",
      "FlowCover was tried 100 times and created 0 cuts of which 0 were active after adding rounds of cuts (0.000 seconds)\n",
      "TwoMirCuts was tried 107 times and created 185 cuts of which 0 were active after adding rounds of cuts (0.004 seconds)\n",
      "ZeroHalf was tried 1 times and created 0 cuts of which 0 were active after adding rounds of cuts (0.000 seconds)\n",
      "ImplicationCuts was tried 7 times and created 3 cuts of which 0 were active after adding rounds of cuts (0.000 seconds)\n",
      "\n",
      "Result - Optimal solution found\n",
      "\n",
      "Objective value:                434.00000000\n",
      "Enumerated nodes:               2\n",
      "Total iterations:               1523\n",
      "Time (CPU seconds):             0.11\n",
      "Time (Wallclock seconds):       0.12\n",
      "\n",
      "Option for printingOptions changed from normal to all\n",
      "Total time (CPU seconds):       0.11   (Wallclock seconds):       0.12\n",
      "\n"
     ]
    }
   ],
   "source": [
    "sol = problem.solve()"
   ]
  },
  {
   "cell_type": "code",
   "execution_count": 11,
   "id": "e6e2a986",
   "metadata": {},
   "outputs": [
    {
     "data": {
      "text/plain": [
       "'Optimal'"
      ]
     },
     "execution_count": 11,
     "metadata": {},
     "output_type": "execute_result"
    }
   ],
   "source": [
    "pulp.LpStatus[sol]"
   ]
  },
  {
   "cell_type": "code",
   "execution_count": 12,
   "id": "5966c470",
   "metadata": {},
   "outputs": [
    {
     "data": {
      "text/plain": [
       "[]"
      ]
     },
     "execution_count": 12,
     "metadata": {},
     "output_type": "execute_result"
    }
   ],
   "source": [
    "solution = []\n",
    "[df['name'][i] for i in range(len(S)) if xs[i].value == 1]"
   ]
  },
  {
   "cell_type": "code",
   "execution_count": 13,
   "id": "c9792fee",
   "metadata": {},
   "outputs": [
    {
     "name": "stdout",
     "output_type": "stream",
     "text": [
      "価格 : 434.0円\n",
      "ししゃもフライ\n",
      "ビタミンＣサラダ\n",
      "味噌汁\n",
      "ライス\n"
     ]
    }
   ],
   "source": [
    "print(f\"価格 : {problem.objective.value()}円\")\n",
    "for i in range(len(S)):\n",
    "    if xs[i].value():\n",
    "        print(df['name'][i])"
   ]
  }
 ],
 "metadata": {
  "kernelspec": {
   "display_name": "Python 3 (ipykernel)",
   "language": "python",
   "name": "python3"
  },
  "language_info": {
   "codemirror_mode": {
    "name": "ipython",
    "version": 3
   },
   "file_extension": ".py",
   "mimetype": "text/x-python",
   "name": "python",
   "nbconvert_exporter": "python",
   "pygments_lexer": "ipython3",
   "version": "3.10.8"
  }
 },
 "nbformat": 4,
 "nbformat_minor": 5
}
