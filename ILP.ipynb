{
 "cells": [
  {
   "cell_type": "code",
   "execution_count": 1,
   "id": "dd7c66ea-7abd-4551-8f2f-909407fc8d3a",
   "metadata": {},
   "outputs": [],
   "source": [
    "import pandas as pd"
   ]
  },
  {
   "cell_type": "code",
   "execution_count": 2,
   "id": "da321270-216c-43cf-8de1-4c660b568465",
   "metadata": {},
   "outputs": [],
   "source": [
    "df = pd.read_csv('menu.csv')"
   ]
  },
  {
   "cell_type": "code",
   "execution_count": 3,
   "id": "32ed4f10-8942-4557-8542-fbc471b2ce32",
   "metadata": {},
   "outputs": [
    {
     "data": {
      "text/html": [
       "<div>\n",
       "<style scoped>\n",
       "    .dataframe tbody tr th:only-of-type {\n",
       "        vertical-align: middle;\n",
       "    }\n",
       "\n",
       "    .dataframe tbody tr th {\n",
       "        vertical-align: top;\n",
       "    }\n",
       "\n",
       "    .dataframe thead th {\n",
       "        text-align: right;\n",
       "    }\n",
       "</style>\n",
       "<table border=\"1\" class=\"dataframe\">\n",
       "  <thead>\n",
       "    <tr style=\"text-align: right;\">\n",
       "      <th></th>\n",
       "      <th>name</th>\n",
       "      <th>price</th>\n",
       "      <th>energy</th>\n",
       "      <th>protein</th>\n",
       "      <th>fat</th>\n",
       "      <th>carbohydrates</th>\n",
       "      <th>salt</th>\n",
       "      <th>calcium</th>\n",
       "      <th>vegetable</th>\n",
       "    </tr>\n",
       "  </thead>\n",
       "  <tbody>\n",
       "    <tr>\n",
       "      <th>0</th>\n",
       "      <td>ジューシー唐揚げ</td>\n",
       "      <td>308.0</td>\n",
       "      <td>396.0</td>\n",
       "      <td>25.5</td>\n",
       "      <td>25.4</td>\n",
       "      <td>14.5</td>\n",
       "      <td>1.8</td>\n",
       "      <td>18.0</td>\n",
       "      <td>0.0</td>\n",
       "    </tr>\n",
       "    <tr>\n",
       "      <th>1</th>\n",
       "      <td>ローストンカツ味噌ソース</td>\n",
       "      <td>264.0</td>\n",
       "      <td>448.0</td>\n",
       "      <td>16.4</td>\n",
       "      <td>27.0</td>\n",
       "      <td>32.3</td>\n",
       "      <td>1.8</td>\n",
       "      <td>23.0</td>\n",
       "      <td>0.0</td>\n",
       "    </tr>\n",
       "    <tr>\n",
       "      <th>2</th>\n",
       "      <td>チキンカツ七味マヨ</td>\n",
       "      <td>220.0</td>\n",
       "      <td>460.0</td>\n",
       "      <td>16.7</td>\n",
       "      <td>34.5</td>\n",
       "      <td>18.2</td>\n",
       "      <td>1.2</td>\n",
       "      <td>14.0</td>\n",
       "      <td>0.0</td>\n",
       "    </tr>\n",
       "    <tr>\n",
       "      <th>3</th>\n",
       "      <td>ハンバーグおろしソース</td>\n",
       "      <td>220.0</td>\n",
       "      <td>234.0</td>\n",
       "      <td>15.2</td>\n",
       "      <td>10.9</td>\n",
       "      <td>17.1</td>\n",
       "      <td>2.8</td>\n",
       "      <td>40.0</td>\n",
       "      <td>39.0</td>\n",
       "    </tr>\n",
       "    <tr>\n",
       "      <th>4</th>\n",
       "      <td>鶏肉と野菜のオイスター炒め</td>\n",
       "      <td>264.0</td>\n",
       "      <td>258.0</td>\n",
       "      <td>11.9</td>\n",
       "      <td>13.5</td>\n",
       "      <td>22.3</td>\n",
       "      <td>2.6</td>\n",
       "      <td>39.0</td>\n",
       "      <td>172.0</td>\n",
       "    </tr>\n",
       "  </tbody>\n",
       "</table>\n",
       "</div>"
      ],
      "text/plain": [
       "            name  price  energy  protein   fat  carbohydrates  salt  calcium  \\\n",
       "0       ジューシー唐揚げ  308.0   396.0     25.5  25.4           14.5   1.8     18.0   \n",
       "1   ローストンカツ味噌ソース  264.0   448.0     16.4  27.0           32.3   1.8     23.0   \n",
       "2      チキンカツ七味マヨ  220.0   460.0     16.7  34.5           18.2   1.2     14.0   \n",
       "3    ハンバーグおろしソース  220.0   234.0     15.2  10.9           17.1   2.8     40.0   \n",
       "4  鶏肉と野菜のオイスター炒め  264.0   258.0     11.9  13.5           22.3   2.6     39.0   \n",
       "\n",
       "   vegetable  \n",
       "0        0.0  \n",
       "1        0.0  \n",
       "2        0.0  \n",
       "3       39.0  \n",
       "4      172.0  "
      ]
     },
     "execution_count": 3,
     "metadata": {},
     "output_type": "execute_result"
    }
   ],
   "source": [
    "df.head()"
   ]
  },
  {
   "cell_type": "code",
   "execution_count": 4,
   "id": "c1d8d659-44c9-49a6-9527-deccf455d598",
   "metadata": {},
   "outputs": [],
   "source": [
    "r_energy = 2650 / 3 \n",
    "r_protein = 65 / 3 \n",
    "r_fat = 60 / 3\n",
    "r_carbohydrates = 300 / 3\n",
    "r_salt = 7.5 / 3 # 以下\n",
    "r_calcium = 800 / 3\n",
    "r_vegetable = 350 / 3 # 以上"
   ]
  },
  {
   "cell_type": "markdown",
   "id": "b3f5540a-352c-48ce-8989-a20716f919bf",
   "metadata": {},
   "source": [
    "決定変数  \n",
    "$x_{s}$ : メニューsを選ぶかどうか"
   ]
  },
  {
   "cell_type": "code",
   "execution_count": 5,
   "id": "1cdb5972-54cb-4827-af15-dfc01a6cdc7a",
   "metadata": {},
   "outputs": [],
   "source": [
    "import pulp "
   ]
  },
  {
   "cell_type": "code",
   "execution_count": 6,
   "id": "1576a379-ebfb-442e-8a9a-7e68e806b036",
   "metadata": {},
   "outputs": [],
   "source": [
    "S = list(range(len(df)))"
   ]
  },
  {
   "cell_type": "code",
   "execution_count": 7,
   "id": "f5602978-8c4a-4ac6-8a90-ca135db522a7",
   "metadata": {},
   "outputs": [
    {
     "name": "stderr",
     "output_type": "stream",
     "text": [
      "/usr/local/lib/python3.9/site-packages/pulp/pulp.py:1352: UserWarning: Spaces are not permitted in the name. Converted to '_'\n",
      "  warnings.warn(\"Spaces are not permitted in the name. Converted to '_'\")\n"
     ]
    }
   ],
   "source": [
    "# 問題設定\n",
    "problem = pulp.LpProblem('Problem Name', pulp.LpMinimize) \n",
    "xs = pulp.LpVariable.dicts('x', S, 0, 1, 'Integer')\n",
    "\n",
    "# 目的関数　コスト最小化\n",
    "problem += pulp.lpSum(df['price'][i]*xs[i] for i in range(len(S)))\n",
    "\n",
    "# 制約式\n",
    "problem += pulp.lpSum(df['energy'][i]*xs[i] for i in range(len(S))) <= 1.1 * r_energy\n",
    "\n",
    "problem += pulp.lpSum(df['protein'][i]*xs[i] for i in range(len(S))) <= 1.1 * r_protein\n",
    "problem += pulp.lpSum(df['protein'][i]*xs[i] for i in range(len(S))) >= 0.9 * r_protein\n",
    "\n",
    "problem += pulp.lpSum(df['fat'][i]*xs[i] for i in range(len(S))) <= 1.1 * r_fat\n",
    "problem += pulp.lpSum(df['fat'][i]*xs[i] for i in range(len(S))) <= 0.9 * r_fat\n",
    "\n",
    "problem += pulp.lpSum(df['carbohydrates'][i]*xs[i] for i in range(len(S))) <= 1.1 * r_carbohydrates\n",
    "problem += pulp.lpSum(df['carbohydrates'][i]*xs[i] for i in range(len(S))) >= 0.9 * r_carbohydrates\n",
    "\n",
    "problem += pulp.lpSum(df['salt'][i]*xs[i] for i in range(len(S))) <= 1.1 * r_salt\n",
    "\n",
    "problem += pulp.lpSum(df['calcium'][i]*xs[i] for i in range(len(S))) <= 1.1 * r_calcium\n",
    "problem += pulp.lpSum(df['calcium'][i]*xs[i] for i in range(len(S))) >= 0.9 * r_calcium\n",
    "\n",
    "problem += pulp.lpSum(df['vegetable'][i]*xs[i] for i in range(len(S))) <= 1.1 * r_vegetable\n",
    "problem += pulp.lpSum(df['vegetable'][i]*xs[i] for i in range(len(S))) >= 0.9 * r_vegetable"
   ]
  },
  {
   "cell_type": "code",
   "execution_count": 8,
   "id": "ba6266d1-7329-4dae-b142-5555a813d264",
   "metadata": {},
   "outputs": [
    {
     "name": "stdout",
     "output_type": "stream",
     "text": [
      "Welcome to the CBC MILP Solver \n",
      "Version: 2.10.3 \n",
      "Build Date: Dec 15 2019 \n",
      "\n",
      "command line - /usr/local/lib/python3.9/site-packages/pulp/apis/../solverdir/cbc/osx/64/cbc /var/folders/kc/5vks2chj5jg_zq9fvglb01jr0000gp/T/ff3abfb8bf184e43810420f5eaeb8476-pulp.mps timeMode elapsed branch printingOptions all solution /var/folders/kc/5vks2chj5jg_zq9fvglb01jr0000gp/T/ff3abfb8bf184e43810420f5eaeb8476-pulp.sol (default strategy 1)\n",
      "At line 2 NAME          MODEL\n",
      "At line 3 ROWS\n",
      "At line 17 COLUMNS\n",
      "At line 663 RHS\n",
      "At line 676 BOUNDS\n",
      "At line 723 ENDATA\n",
      "Problem MODEL has 12 rows, 46 columns and 507 elements\n",
      "Coin0008I MODEL read with 0 errors\n",
      "Option for timeMode changed from cpu to elapsed\n",
      "Continuous objective value is 311.949 - 0.00 seconds\n",
      "Cgl0003I 2 fixed, 0 tightened bounds, 0 strengthened rows, 0 substitutions\n",
      "Cgl0004I processed model has 7 rows, 22 columns (22 integer (22 of which binary)) and 133 elements\n",
      "Cutoff increment increased from 1e-05 to 0.9999\n",
      "Cbc0038I Initial state - 4 integers unsatisfied sum - 1.02009\n",
      "Cbc0038I Pass   1: suminf.    0.53897 (2) obj. 350.867 iterations 4\n",
      "Cbc0038I Pass   2: suminf.    0.76561 (2) obj. 331.603 iterations 1\n",
      "Cbc0038I Pass   3: suminf.    1.24298 (4) obj. 468.074 iterations 6\n",
      "Cbc0038I Pass   4: suminf.    0.48614 (2) obj. 383.438 iterations 4\n",
      "Cbc0038I Pass   5: suminf.    0.25222 (2) obj. 403.321 iterations 1\n",
      "Cbc0038I Pass   6: suminf.    0.83682 (2) obj. 407.452 iterations 2\n",
      "Cbc0038I Pass   7: suminf.    1.13389 (5) obj. 385.665 iterations 6\n",
      "Cbc0038I Pass   8: suminf.    0.53897 (2) obj. 350.867 iterations 5\n",
      "Cbc0038I Pass   9: suminf.    0.76561 (2) obj. 331.603 iterations 1\n",
      "Cbc0038I Pass  10: suminf.    0.66680 (3) obj. 343.231 iterations 4\n",
      "Cbc0038I Pass  11: suminf.    0.66680 (3) obj. 343.231 iterations 0\n",
      "Cbc0038I Pass  12: suminf.    0.52123 (2) obj. 330.456 iterations 1\n",
      "Cbc0038I Pass  13: suminf.    0.28731 (2) obj. 350.339 iterations 1\n",
      "Cbc0038I Pass  14: suminf.    0.87191 (2) obj. 354.47 iterations 2\n",
      "Cbc0038I Pass  15: suminf.    0.77593 (4) obj. 554.187 iterations 9\n",
      "Cbc0038I Pass  16: suminf.    0.77593 (4) obj. 554.187 iterations 0\n",
      "Cbc0038I Pass  17: suminf.    1.20518 (5) obj. 587.805 iterations 8\n",
      "Cbc0038I Pass  18: suminf.    0.84627 (3) obj. 566.193 iterations 4\n",
      "Cbc0038I Pass  19: suminf.    1.13197 (3) obj. 530.338 iterations 3\n",
      "Cbc0038I Pass  20: suminf.    1.11972 (4) obj. 531.903 iterations 1\n",
      "Cbc0038I Pass  21: suminf.    1.07986 (4) obj. 584.892 iterations 4\n",
      "Cbc0038I Pass  22: suminf.    0.98719 (3) obj. 584.231 iterations 3\n",
      "Cbc0038I Pass  23: suminf.    0.97837 (4) obj. 559.195 iterations 8\n",
      "Cbc0038I Pass  24: suminf.    0.64680 (2) obj. 550.486 iterations 3\n",
      "Cbc0038I Pass  25: suminf.    0.85016 (2) obj. 565.821 iterations 1\n",
      "Cbc0038I Pass  26: suminf.    0.85615 (3) obj. 549.39 iterations 5\n",
      "Cbc0038I Pass  27: suminf.    0.62057 (2) obj. 502.781 iterations 3\n",
      "Cbc0038I Pass  28: suminf.    0.78776 (2) obj. 523.62 iterations 2\n",
      "Cbc0038I Pass  29: suminf.    0.76470 (3) obj. 511.526 iterations 3\n",
      "Cbc0038I Pass  30: suminf.    1.19367 (5) obj. 547.258 iterations 13\n",
      "Cbc0038I No solution found this major pass\n",
      "Cbc0038I Before mini branch and bound, 2 integers at bound fixed and 0 continuous\n",
      "Cbc0038I Full problem 7 rows 22 columns, reduced to 7 rows 20 columns\n",
      "Cbc0038I Mini branch and bound improved solution from 1.79769e+308 to 376 (0.02 seconds)\n",
      "Cbc0038I Round again with cutoff of 368.695\n",
      "Cbc0038I Reduced cost fixing fixed 3 variables on major pass 2\n",
      "Cbc0038I Pass  30: suminf.    0.53897 (2) obj. 350.867 iterations 0\n",
      "Cbc0038I Pass  31: suminf.    0.76561 (2) obj. 331.603 iterations 1\n",
      "Cbc0038I Pass  32: suminf.    0.98203 (4) obj. 368.695 iterations 4\n",
      "Cbc0038I Pass  33: suminf.    0.98203 (4) obj. 368.695 iterations 0\n",
      "Cbc0038I Pass  34: suminf.    1.15415 (4) obj. 368.695 iterations 4\n",
      "Cbc0038I Pass  35: suminf.    1.15415 (4) obj. 368.695 iterations 0\n",
      "Cbc0038I Pass  36: suminf.    1.04105 (4) obj. 353.512 iterations 8\n",
      "Cbc0038I Pass  37: suminf.    0.75670 (3) obj. 368.695 iterations 4\n",
      "Cbc0038I Pass  38: suminf.    1.61334 (5) obj. 368.695 iterations 4\n",
      "Cbc0038I Pass  39: suminf.    1.17730 (4) obj. 368.695 iterations 1\n",
      "Cbc0038I Pass  40: suminf.    1.17258 (4) obj. 368.695 iterations 8\n",
      "Cbc0038I Pass  41: suminf.    1.16611 (5) obj. 368.695 iterations 2\n",
      "Cbc0038I Pass  42: suminf.    0.74741 (3) obj. 356.647 iterations 5\n",
      "Cbc0038I Pass  43: suminf.    0.63777 (3) obj. 368.695 iterations 2\n",
      "Cbc0038I Pass  44: suminf.    0.58376 (3) obj. 347.458 iterations 7\n",
      "Cbc0038I Pass  45: suminf.    0.08259 (2) obj. 368.695 iterations 4\n",
      "Cbc0038I Pass  46: suminf.    1.14150 (4) obj. 368.695 iterations 4\n",
      "Cbc0038I Pass  47: suminf.    0.50327 (4) obj. 368.695 iterations 4\n",
      "Cbc0038I Pass  48: suminf.    0.94246 (4) obj. 355.414 iterations 5\n",
      "Cbc0038I Pass  49: suminf.    0.71859 (3) obj. 368.695 iterations 3\n",
      "Cbc0038I Pass  50: suminf.    0.94246 (4) obj. 355.414 iterations 4\n",
      "Cbc0038I Pass  51: suminf.    1.54518 (5) obj. 368.695 iterations 10\n",
      "Cbc0038I Pass  52: suminf.    1.09924 (4) obj. 363.847 iterations 1\n",
      "Cbc0038I Pass  53: suminf.    0.96616 (4) obj. 368.695 iterations 5\n",
      "Cbc0038I Pass  54: suminf.    0.88497 (3) obj. 368.695 iterations 1\n",
      "Cbc0038I Pass  55: suminf.    0.42792 (2) obj. 357.385 iterations 5\n",
      "Cbc0038I Pass  56: suminf.    0.89223 (3) obj. 368.695 iterations 3\n",
      "Cbc0038I Pass  57: suminf.    0.79387 (3) obj. 348.63 iterations 2\n",
      "Cbc0038I Pass  58: suminf.    1.04375 (4) obj. 368.695 iterations 9\n",
      "Cbc0038I Pass  59: suminf.    1.04375 (4) obj. 368.695 iterations 0\n",
      "Cbc0038I No solution found this major pass\n",
      "Cbc0038I Before mini branch and bound, 6 integers at bound fixed and 0 continuous\n",
      "Cbc0038I Full problem 7 rows 22 columns, reduced to 7 rows 16 columns\n",
      "Cbc0038I Mini branch and bound did not improve solution (0.02 seconds)\n",
      "Cbc0038I After 0.02 seconds - Feasibility pump exiting with objective of 376 - took 0.00 seconds\n",
      "Cbc0012I Integer solution of 376 found by feasibility pump after 0 iterations and 0 nodes (0.02 seconds)\n",
      "Cbc0031I 2 added rows had average density of 11\n",
      "Cbc0013I At root node, 49 cuts changed objective from 311.94901 to 375.21571 in 47 passes\n",
      "Cbc0014I Cut generator 0 (Probing) - 24 row cuts average 2.3 elements, 0 column cuts (0 active)  in 0.001 seconds - new frequency is -100\n",
      "Cbc0014I Cut generator 1 (Gomory) - 297 row cuts average 13.8 elements, 0 column cuts (0 active)  in 0.002 seconds - new frequency is 1\n",
      "Cbc0014I Cut generator 2 (Knapsack) - 194 row cuts average 9.0 elements, 0 column cuts (0 active)  in 0.009 seconds - new frequency is 1\n",
      "Cbc0014I Cut generator 3 (Clique) - 0 row cuts average 0.0 elements, 0 column cuts (0 active)  in 0.000 seconds - new frequency is -100\n",
      "Cbc0014I Cut generator 4 (MixedIntegerRounding2) - 301 row cuts average 14.5 elements, 0 column cuts (0 active)  in 0.003 seconds - new frequency is 1\n",
      "Cbc0014I Cut generator 5 (FlowCover) - 0 row cuts average 0.0 elements, 0 column cuts (0 active)  in 0.000 seconds - new frequency is -100\n",
      "Cbc0014I Cut generator 6 (TwoMirCuts) - 145 row cuts average 11.2 elements, 0 column cuts (0 active)  in 0.001 seconds - new frequency is -100\n",
      "Cbc0001I Search completed - best objective 376, took 654 iterations and 0 nodes (0.05 seconds)\n",
      "Cbc0035I Maximum depth 0, 8 variables fixed on reduced cost\n",
      "Cuts at root node changed objective from 311.949 to 375.216\n",
      "Probing was tried 47 times and created 24 cuts of which 0 were active after adding rounds of cuts (0.001 seconds)\n",
      "Gomory was tried 47 times and created 297 cuts of which 0 were active after adding rounds of cuts (0.002 seconds)\n",
      "Knapsack was tried 47 times and created 194 cuts of which 0 were active after adding rounds of cuts (0.009 seconds)\n",
      "Clique was tried 47 times and created 0 cuts of which 0 were active after adding rounds of cuts (0.000 seconds)\n",
      "MixedIntegerRounding2 was tried 47 times and created 301 cuts of which 0 were active after adding rounds of cuts (0.003 seconds)\n",
      "FlowCover was tried 47 times and created 0 cuts of which 0 were active after adding rounds of cuts (0.000 seconds)\n",
      "TwoMirCuts was tried 47 times and created 145 cuts of which 0 were active after adding rounds of cuts (0.001 seconds)\n",
      "ZeroHalf was tried 1 times and created 0 cuts of which 0 were active after adding rounds of cuts (0.000 seconds)\n",
      "\n",
      "Result - Optimal solution found\n",
      "\n",
      "Objective value:                376.00000000\n",
      "Enumerated nodes:               0\n",
      "Total iterations:               654\n",
      "Time (CPU seconds):             0.04\n",
      "Time (Wallclock seconds):       0.05\n",
      "\n",
      "Option for printingOptions changed from normal to all\n",
      "Total time (CPU seconds):       0.04   (Wallclock seconds):       0.06\n",
      "\n"
     ]
    }
   ],
   "source": [
    "sol = problem.solve()"
   ]
  },
  {
   "cell_type": "code",
   "execution_count": 12,
   "id": "766da7a1-0021-4551-9bdc-7fd0aa2abc38",
   "metadata": {},
   "outputs": [
    {
     "data": {
      "text/plain": [
       "'Optimal'"
      ]
     },
     "execution_count": 12,
     "metadata": {},
     "output_type": "execute_result"
    }
   ],
   "source": [
    "pulp.LpStatus[sol]"
   ]
  },
  {
   "cell_type": "code",
   "execution_count": 31,
   "id": "7b8e9a72-38b9-4549-a736-fb2eb154e3fd",
   "metadata": {},
   "outputs": [
    {
     "data": {
      "text/plain": [
       "[]"
      ]
     },
     "execution_count": 31,
     "metadata": {},
     "output_type": "execute_result"
    }
   ],
   "source": [
    "solution = []\n",
    "[df['name'][i] for i in range(len(S)) if xs[i].value == 1]"
   ]
  },
  {
   "cell_type": "code",
   "execution_count": 42,
   "id": "ec390584-bad3-4108-96a0-59f5945a949a",
   "metadata": {},
   "outputs": [
    {
     "name": "stdout",
     "output_type": "stream",
     "text": [
      "価格 : 376.0円\n",
      "スパイスチキンサラダ\n",
      "ほうれん草\n",
      "ライス\n",
      "牛乳\n"
     ]
    }
   ],
   "source": [
    "print(f\"価格 : {problem.objective.value()}円\")\n",
    "for i in range(len(S)):\n",
    "    if xs[i].value():\n",
    "        print(df['name'][i])"
   ]
  },
  {
   "cell_type": "code",
   "execution_count": null,
   "id": "29eb0739-6db0-4f8a-8eee-fc573256f2ca",
   "metadata": {},
   "outputs": [],
   "source": []
  }
 ],
 "metadata": {
  "kernelspec": {
   "display_name": "Python 3 (ipykernel)",
   "language": "python",
   "name": "python3"
  },
  "language_info": {
   "codemirror_mode": {
    "name": "ipython",
    "version": 3
   },
   "file_extension": ".py",
   "mimetype": "text/x-python",
   "name": "python",
   "nbconvert_exporter": "python",
   "pygments_lexer": "ipython3",
   "version": "3.9.13"
  }
 },
 "nbformat": 4,
 "nbformat_minor": 5
}
